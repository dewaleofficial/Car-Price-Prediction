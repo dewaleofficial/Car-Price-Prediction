{
 "cells": [
  {
   "cell_type": "code",
   "execution_count": 1,
   "id": "be45f903",
   "metadata": {},
   "outputs": [],
   "source": [
    "import numpy as np\n",
    "import pandas as pd\n",
    "import seaborn as sns\n",
    "from matplotlib import pyplot as plt"
   ]
  },
  {
   "cell_type": "code",
   "execution_count": 2,
   "id": "91db94d0",
   "metadata": {},
   "outputs": [],
   "source": [
    "car_data = pd.read_csv('model_car_data.csv')"
   ]
  },
  {
   "cell_type": "code",
   "execution_count": 3,
   "id": "5f732839",
   "metadata": {},
   "outputs": [
    {
     "data": {
      "text/html": [
       "<div>\n",
       "<style scoped>\n",
       "    .dataframe tbody tr th:only-of-type {\n",
       "        vertical-align: middle;\n",
       "    }\n",
       "\n",
       "    .dataframe tbody tr th {\n",
       "        vertical-align: top;\n",
       "    }\n",
       "\n",
       "    .dataframe thead th {\n",
       "        text-align: right;\n",
       "    }\n",
       "</style>\n",
       "<table border=\"1\" class=\"dataframe\">\n",
       "  <thead>\n",
       "    <tr style=\"text-align: right;\">\n",
       "      <th></th>\n",
       "      <th>Unnamed: 0</th>\n",
       "      <th>car_name</th>\n",
       "      <th>model</th>\n",
       "      <th>Mileage</th>\n",
       "      <th>Year</th>\n",
       "      <th>Condition</th>\n",
       "      <th>Price</th>\n",
       "    </tr>\n",
       "  </thead>\n",
       "  <tbody>\n",
       "    <tr>\n",
       "      <th>0</th>\n",
       "      <td>0</td>\n",
       "      <td>lexus</td>\n",
       "      <td>LX</td>\n",
       "      <td>21204.0</td>\n",
       "      <td>2018</td>\n",
       "      <td>Foreign Used</td>\n",
       "      <td>50015000</td>\n",
       "    </tr>\n",
       "    <tr>\n",
       "      <th>1</th>\n",
       "      <td>1</td>\n",
       "      <td>toyota</td>\n",
       "      <td>Camry</td>\n",
       "      <td>140309.0</td>\n",
       "      <td>2013</td>\n",
       "      <td>Foreign Used</td>\n",
       "      <td>5015000</td>\n",
       "    </tr>\n",
       "    <tr>\n",
       "      <th>2</th>\n",
       "      <td>2</td>\n",
       "      <td>toyota</td>\n",
       "      <td>Venza</td>\n",
       "      <td>172709.0</td>\n",
       "      <td>2013</td>\n",
       "      <td>Foreign Used</td>\n",
       "      <td>7115000</td>\n",
       "    </tr>\n",
       "    <tr>\n",
       "      <th>3</th>\n",
       "      <td>3</td>\n",
       "      <td>mercedes-benz</td>\n",
       "      <td>C</td>\n",
       "      <td>114936.0</td>\n",
       "      <td>2010</td>\n",
       "      <td>Foreign Used</td>\n",
       "      <td>4815000</td>\n",
       "    </tr>\n",
       "    <tr>\n",
       "      <th>4</th>\n",
       "      <td>4</td>\n",
       "      <td>toyota</td>\n",
       "      <td>Lexus</td>\n",
       "      <td>123938.5</td>\n",
       "      <td>2012</td>\n",
       "      <td>Foreign Used</td>\n",
       "      <td>8515000</td>\n",
       "    </tr>\n",
       "  </tbody>\n",
       "</table>\n",
       "</div>"
      ],
      "text/plain": [
       "   Unnamed: 0       car_name  model   Mileage  Year     Condition     Price\n",
       "0           0          lexus     LX   21204.0  2018  Foreign Used  50015000\n",
       "1           1         toyota  Camry  140309.0  2013  Foreign Used   5015000\n",
       "2           2         toyota  Venza  172709.0  2013  Foreign Used   7115000\n",
       "3           3  mercedes-benz      C  114936.0  2010  Foreign Used   4815000\n",
       "4           4         toyota  Lexus  123938.5  2012  Foreign Used   8515000"
      ]
     },
     "execution_count": 3,
     "metadata": {},
     "output_type": "execute_result"
    }
   ],
   "source": [
    "car_data.head()"
   ]
  },
  {
   "cell_type": "code",
   "execution_count": 4,
   "id": "609618f0",
   "metadata": {},
   "outputs": [],
   "source": [
    "car_data.drop('Unnamed: 0', axis=1, inplace = True)"
   ]
  },
  {
   "cell_type": "code",
   "execution_count": 5,
   "id": "426dac65",
   "metadata": {},
   "outputs": [
    {
     "data": {
      "text/html": [
       "<div>\n",
       "<style scoped>\n",
       "    .dataframe tbody tr th:only-of-type {\n",
       "        vertical-align: middle;\n",
       "    }\n",
       "\n",
       "    .dataframe tbody tr th {\n",
       "        vertical-align: top;\n",
       "    }\n",
       "\n",
       "    .dataframe thead th {\n",
       "        text-align: right;\n",
       "    }\n",
       "</style>\n",
       "<table border=\"1\" class=\"dataframe\">\n",
       "  <thead>\n",
       "    <tr style=\"text-align: right;\">\n",
       "      <th></th>\n",
       "      <th>car_name</th>\n",
       "      <th>model</th>\n",
       "      <th>Mileage</th>\n",
       "      <th>Year</th>\n",
       "      <th>Condition</th>\n",
       "      <th>Price</th>\n",
       "    </tr>\n",
       "  </thead>\n",
       "  <tbody>\n",
       "    <tr>\n",
       "      <th>0</th>\n",
       "      <td>lexus</td>\n",
       "      <td>LX</td>\n",
       "      <td>21204.0</td>\n",
       "      <td>2018</td>\n",
       "      <td>Foreign Used</td>\n",
       "      <td>50015000</td>\n",
       "    </tr>\n",
       "    <tr>\n",
       "      <th>1</th>\n",
       "      <td>toyota</td>\n",
       "      <td>Camry</td>\n",
       "      <td>140309.0</td>\n",
       "      <td>2013</td>\n",
       "      <td>Foreign Used</td>\n",
       "      <td>5015000</td>\n",
       "    </tr>\n",
       "    <tr>\n",
       "      <th>2</th>\n",
       "      <td>toyota</td>\n",
       "      <td>Venza</td>\n",
       "      <td>172709.0</td>\n",
       "      <td>2013</td>\n",
       "      <td>Foreign Used</td>\n",
       "      <td>7115000</td>\n",
       "    </tr>\n",
       "    <tr>\n",
       "      <th>3</th>\n",
       "      <td>mercedes-benz</td>\n",
       "      <td>C</td>\n",
       "      <td>114936.0</td>\n",
       "      <td>2010</td>\n",
       "      <td>Foreign Used</td>\n",
       "      <td>4815000</td>\n",
       "    </tr>\n",
       "    <tr>\n",
       "      <th>4</th>\n",
       "      <td>toyota</td>\n",
       "      <td>Lexus</td>\n",
       "      <td>123938.5</td>\n",
       "      <td>2012</td>\n",
       "      <td>Foreign Used</td>\n",
       "      <td>8515000</td>\n",
       "    </tr>\n",
       "  </tbody>\n",
       "</table>\n",
       "</div>"
      ],
      "text/plain": [
       "        car_name  model   Mileage  Year     Condition     Price\n",
       "0          lexus     LX   21204.0  2018  Foreign Used  50015000\n",
       "1         toyota  Camry  140309.0  2013  Foreign Used   5015000\n",
       "2         toyota  Venza  172709.0  2013  Foreign Used   7115000\n",
       "3  mercedes-benz      C  114936.0  2010  Foreign Used   4815000\n",
       "4         toyota  Lexus  123938.5  2012  Foreign Used   8515000"
      ]
     },
     "execution_count": 5,
     "metadata": {},
     "output_type": "execute_result"
    }
   ],
   "source": [
    "car_data.head()"
   ]
  },
  {
   "cell_type": "code",
   "execution_count": 6,
   "id": "4d2a1112",
   "metadata": {},
   "outputs": [
    {
     "data": {
      "text/plain": [
       "toyota           4414\n",
       "lexus            1926\n",
       "mercedes-benz    1143\n",
       "honda             449\n",
       "hyundai           294\n",
       "nissan            243\n",
       "kia               242\n",
       "ford              218\n",
       "acura             201\n",
       "audi              147\n",
       "pontiac           137\n",
       "volkswagen        113\n",
       "land               83\n",
       "peugeot            82\n",
       "mazda              68\n",
       "bmw                65\n",
       "mitsubishi         63\n",
       "infiniti           47\n",
       "chevrolet          35\n",
       "volvo              24\n",
       "jeep               23\n",
       "dodge              23\n",
       "mercedes           18\n",
       "suzuki             16\n",
       "chrysler           13\n",
       "Name: car_name, dtype: int64"
      ]
     },
     "execution_count": 6,
     "metadata": {},
     "output_type": "execute_result"
    }
   ],
   "source": [
    "car_data['car_name'].value_counts()"
   ]
  },
  {
   "cell_type": "markdown",
   "id": "14b68247",
   "metadata": {},
   "source": [
    ">> Observed from above, the mercedes-benz and mercedes are the same. Need to merge them together."
   ]
  },
  {
   "cell_type": "code",
   "execution_count": 7,
   "id": "2f8538b1",
   "metadata": {},
   "outputs": [
    {
     "data": {
      "text/html": [
       "<div>\n",
       "<style scoped>\n",
       "    .dataframe tbody tr th:only-of-type {\n",
       "        vertical-align: middle;\n",
       "    }\n",
       "\n",
       "    .dataframe tbody tr th {\n",
       "        vertical-align: top;\n",
       "    }\n",
       "\n",
       "    .dataframe thead th {\n",
       "        text-align: right;\n",
       "    }\n",
       "</style>\n",
       "<table border=\"1\" class=\"dataframe\">\n",
       "  <thead>\n",
       "    <tr style=\"text-align: right;\">\n",
       "      <th></th>\n",
       "      <th>car_name</th>\n",
       "      <th>model</th>\n",
       "      <th>Mileage</th>\n",
       "      <th>Year</th>\n",
       "      <th>Condition</th>\n",
       "      <th>Price</th>\n",
       "    </tr>\n",
       "  </thead>\n",
       "  <tbody>\n",
       "    <tr>\n",
       "      <th>6115</th>\n",
       "      <td>mercedes</td>\n",
       "      <td>Benz</td>\n",
       "      <td>107525.0</td>\n",
       "      <td>2017</td>\n",
       "      <td>Foreign Used</td>\n",
       "      <td>31370000</td>\n",
       "    </tr>\n",
       "    <tr>\n",
       "      <th>6202</th>\n",
       "      <td>mercedes</td>\n",
       "      <td>Benz</td>\n",
       "      <td>133787.0</td>\n",
       "      <td>2004</td>\n",
       "      <td>Foreign Used</td>\n",
       "      <td>1697500</td>\n",
       "    </tr>\n",
       "    <tr>\n",
       "      <th>6250</th>\n",
       "      <td>mercedes</td>\n",
       "      <td>MI350</td>\n",
       "      <td>100485.0</td>\n",
       "      <td>2006</td>\n",
       "      <td>Nigerian Used</td>\n",
       "      <td>3594000</td>\n",
       "    </tr>\n",
       "    <tr>\n",
       "      <th>6264</th>\n",
       "      <td>mercedes</td>\n",
       "      <td>Benz</td>\n",
       "      <td>133433.0</td>\n",
       "      <td>2006</td>\n",
       "      <td>Foreign Used</td>\n",
       "      <td>1690000</td>\n",
       "    </tr>\n",
       "    <tr>\n",
       "      <th>6369</th>\n",
       "      <td>mercedes</td>\n",
       "      <td>Benz</td>\n",
       "      <td>112170.0</td>\n",
       "      <td>2011</td>\n",
       "      <td>Foreign Used</td>\n",
       "      <td>6730000</td>\n",
       "    </tr>\n",
       "    <tr>\n",
       "      <th>6397</th>\n",
       "      <td>mercedes</td>\n",
       "      <td>GL</td>\n",
       "      <td>147465.0</td>\n",
       "      <td>2007</td>\n",
       "      <td>Nigerian Used</td>\n",
       "      <td>3930000</td>\n",
       "    </tr>\n",
       "    <tr>\n",
       "      <th>6817</th>\n",
       "      <td>mercedes</td>\n",
       "      <td>benz</td>\n",
       "      <td>215613.0</td>\n",
       "      <td>2001</td>\n",
       "      <td>Foreign Used</td>\n",
       "      <td>2138000</td>\n",
       "    </tr>\n",
       "    <tr>\n",
       "      <th>7117</th>\n",
       "      <td>mercedes</td>\n",
       "      <td>benz</td>\n",
       "      <td>238641.0</td>\n",
       "      <td>2006</td>\n",
       "      <td>Nigerian Used</td>\n",
       "      <td>1746000</td>\n",
       "    </tr>\n",
       "    <tr>\n",
       "      <th>7221</th>\n",
       "      <td>mercedes</td>\n",
       "      <td>benz</td>\n",
       "      <td>7635.0</td>\n",
       "      <td>2008</td>\n",
       "      <td>Foreign Used</td>\n",
       "      <td>3370000</td>\n",
       "    </tr>\n",
       "    <tr>\n",
       "      <th>7274</th>\n",
       "      <td>mercedes</td>\n",
       "      <td>benz</td>\n",
       "      <td>86936.0</td>\n",
       "      <td>2006</td>\n",
       "      <td>Nigerian Used</td>\n",
       "      <td>2250000</td>\n",
       "    </tr>\n",
       "    <tr>\n",
       "      <th>7438</th>\n",
       "      <td>mercedes</td>\n",
       "      <td>benz</td>\n",
       "      <td>233311.0</td>\n",
       "      <td>2001</td>\n",
       "      <td>Foreign Used</td>\n",
       "      <td>1914000</td>\n",
       "    </tr>\n",
       "    <tr>\n",
       "      <th>7671</th>\n",
       "      <td>mercedes</td>\n",
       "      <td>benz</td>\n",
       "      <td>27859.0</td>\n",
       "      <td>2010</td>\n",
       "      <td>Nigerian Used</td>\n",
       "      <td>5834000</td>\n",
       "    </tr>\n",
       "    <tr>\n",
       "      <th>7678</th>\n",
       "      <td>mercedes</td>\n",
       "      <td>Benz</td>\n",
       "      <td>999999.0</td>\n",
       "      <td>2006</td>\n",
       "      <td>Nigerian Used</td>\n",
       "      <td>1242000</td>\n",
       "    </tr>\n",
       "    <tr>\n",
       "      <th>7944</th>\n",
       "      <td>mercedes</td>\n",
       "      <td>benz</td>\n",
       "      <td>93265.0</td>\n",
       "      <td>2013</td>\n",
       "      <td>Foreign Used</td>\n",
       "      <td>19610000</td>\n",
       "    </tr>\n",
       "    <tr>\n",
       "      <th>8064</th>\n",
       "      <td>mercedes</td>\n",
       "      <td>benz</td>\n",
       "      <td>177051.0</td>\n",
       "      <td>2005</td>\n",
       "      <td>Foreign Used</td>\n",
       "      <td>2474000</td>\n",
       "    </tr>\n",
       "    <tr>\n",
       "      <th>8303</th>\n",
       "      <td>mercedes</td>\n",
       "      <td>BENZ</td>\n",
       "      <td>234007.0</td>\n",
       "      <td>2006</td>\n",
       "      <td>Nigerian Used</td>\n",
       "      <td>1242000</td>\n",
       "    </tr>\n",
       "    <tr>\n",
       "      <th>9025</th>\n",
       "      <td>mercedes</td>\n",
       "      <td>ML</td>\n",
       "      <td>159847.0</td>\n",
       "      <td>2006</td>\n",
       "      <td>Nigerian Used</td>\n",
       "      <td>2607500</td>\n",
       "    </tr>\n",
       "    <tr>\n",
       "      <th>9309</th>\n",
       "      <td>mercedes</td>\n",
       "      <td>BENZ</td>\n",
       "      <td>79656.0</td>\n",
       "      <td>2002</td>\n",
       "      <td>Nigerian Used</td>\n",
       "      <td>1482500</td>\n",
       "    </tr>\n",
       "  </tbody>\n",
       "</table>\n",
       "</div>"
      ],
      "text/plain": [
       "      car_name  model   Mileage  Year      Condition     Price\n",
       "6115  mercedes   Benz  107525.0  2017   Foreign Used  31370000\n",
       "6202  mercedes   Benz  133787.0  2004   Foreign Used   1697500\n",
       "6250  mercedes  MI350  100485.0  2006  Nigerian Used   3594000\n",
       "6264  mercedes   Benz  133433.0  2006   Foreign Used   1690000\n",
       "6369  mercedes   Benz  112170.0  2011   Foreign Used   6730000\n",
       "6397  mercedes     GL  147465.0  2007  Nigerian Used   3930000\n",
       "6817  mercedes   benz  215613.0  2001   Foreign Used   2138000\n",
       "7117  mercedes   benz  238641.0  2006  Nigerian Used   1746000\n",
       "7221  mercedes   benz    7635.0  2008   Foreign Used   3370000\n",
       "7274  mercedes   benz   86936.0  2006  Nigerian Used   2250000\n",
       "7438  mercedes   benz  233311.0  2001   Foreign Used   1914000\n",
       "7671  mercedes   benz   27859.0  2010  Nigerian Used   5834000\n",
       "7678  mercedes   Benz  999999.0  2006  Nigerian Used   1242000\n",
       "7944  mercedes   benz   93265.0  2013   Foreign Used  19610000\n",
       "8064  mercedes   benz  177051.0  2005   Foreign Used   2474000\n",
       "8303  mercedes   BENZ  234007.0  2006  Nigerian Used   1242000\n",
       "9025  mercedes     ML  159847.0  2006  Nigerian Used   2607500\n",
       "9309  mercedes   BENZ   79656.0  2002  Nigerian Used   1482500"
      ]
     },
     "execution_count": 7,
     "metadata": {},
     "output_type": "execute_result"
    }
   ],
   "source": [
    "car_data[car_data['car_name'] == 'mercedes']"
   ]
  },
  {
   "cell_type": "markdown",
   "id": "cacb8f94",
   "metadata": {},
   "source": [
    "> I would drop these rows because the model contains part of the car name. the issue will be retreated in the data cleaning process.\n",
    "but will be dropped for now."
   ]
  },
  {
   "cell_type": "code",
   "execution_count": 8,
   "id": "9cf722a8",
   "metadata": {},
   "outputs": [],
   "source": [
    "car_data.drop(car_data[car_data['car_name'] == 'mercedes'].index, axis = 0, inplace = True)"
   ]
  },
  {
   "cell_type": "code",
   "execution_count": 9,
   "id": "d5721989",
   "metadata": {},
   "outputs": [
    {
     "data": {
      "text/plain": [
       "(10069, 6)"
      ]
     },
     "execution_count": 9,
     "metadata": {},
     "output_type": "execute_result"
    }
   ],
   "source": [
    "car_data.shape"
   ]
  },
  {
   "cell_type": "code",
   "execution_count": 10,
   "id": "1fed5b47",
   "metadata": {},
   "outputs": [
    {
     "data": {
      "text/plain": [
       "toyota           4414\n",
       "lexus            1926\n",
       "mercedes-benz    1143\n",
       "honda             449\n",
       "hyundai           294\n",
       "nissan            243\n",
       "kia               242\n",
       "ford              218\n",
       "acura             201\n",
       "audi              147\n",
       "pontiac           137\n",
       "volkswagen        113\n",
       "land               83\n",
       "peugeot            82\n",
       "mazda              68\n",
       "bmw                65\n",
       "mitsubishi         63\n",
       "infiniti           47\n",
       "chevrolet          35\n",
       "volvo              24\n",
       "jeep               23\n",
       "dodge              23\n",
       "suzuki             16\n",
       "chrysler           13\n",
       "Name: car_name, dtype: int64"
      ]
     },
     "execution_count": 10,
     "metadata": {},
     "output_type": "execute_result"
    }
   ],
   "source": [
    "car_data['car_name'].value_counts()"
   ]
  },
  {
   "cell_type": "markdown",
   "id": "1cbba4c0",
   "metadata": {},
   "source": [
    "> I also noticed the same issue with car_name 'land'. from my car knowledge. i know there is a car name land rover. \n",
    "\n",
    "> so I would also re-clean the land rover . but for now, it will be dropped for model accuracy purposes"
   ]
  },
  {
   "cell_type": "code",
   "execution_count": 11,
   "id": "231b0c93",
   "metadata": {},
   "outputs": [
    {
     "data": {
      "text/html": [
       "<div>\n",
       "<style scoped>\n",
       "    .dataframe tbody tr th:only-of-type {\n",
       "        vertical-align: middle;\n",
       "    }\n",
       "\n",
       "    .dataframe tbody tr th {\n",
       "        vertical-align: top;\n",
       "    }\n",
       "\n",
       "    .dataframe thead th {\n",
       "        text-align: right;\n",
       "    }\n",
       "</style>\n",
       "<table border=\"1\" class=\"dataframe\">\n",
       "  <thead>\n",
       "    <tr style=\"text-align: right;\">\n",
       "      <th></th>\n",
       "      <th>car_name</th>\n",
       "      <th>model</th>\n",
       "      <th>Mileage</th>\n",
       "      <th>Year</th>\n",
       "      <th>Condition</th>\n",
       "      <th>Price</th>\n",
       "    </tr>\n",
       "  </thead>\n",
       "  <tbody>\n",
       "    <tr>\n",
       "      <th>5899</th>\n",
       "      <td>land</td>\n",
       "      <td>Rover</td>\n",
       "      <td>82891.0</td>\n",
       "      <td>2006</td>\n",
       "      <td>Nigerian Used</td>\n",
       "      <td>5386000</td>\n",
       "    </tr>\n",
       "    <tr>\n",
       "      <th>6094</th>\n",
       "      <td>land</td>\n",
       "      <td>Rover</td>\n",
       "      <td>97332.0</td>\n",
       "      <td>2005</td>\n",
       "      <td>Nigerian Used</td>\n",
       "      <td>2026000</td>\n",
       "    </tr>\n",
       "    <tr>\n",
       "      <th>6132</th>\n",
       "      <td>land</td>\n",
       "      <td>Rover</td>\n",
       "      <td>127165.0</td>\n",
       "      <td>2011</td>\n",
       "      <td>Foreign Used</td>\n",
       "      <td>9754000</td>\n",
       "    </tr>\n",
       "    <tr>\n",
       "      <th>6169</th>\n",
       "      <td>land</td>\n",
       "      <td>Rover</td>\n",
       "      <td>151210.0</td>\n",
       "      <td>2007</td>\n",
       "      <td>Foreign Used</td>\n",
       "      <td>4490000</td>\n",
       "    </tr>\n",
       "    <tr>\n",
       "      <th>6182</th>\n",
       "      <td>land</td>\n",
       "      <td>Rover</td>\n",
       "      <td>65965.0</td>\n",
       "      <td>2008</td>\n",
       "      <td>Nigerian Used</td>\n",
       "      <td>5050000</td>\n",
       "    </tr>\n",
       "    <tr>\n",
       "      <th>...</th>\n",
       "      <td>...</td>\n",
       "      <td>...</td>\n",
       "      <td>...</td>\n",
       "      <td>...</td>\n",
       "      <td>...</td>\n",
       "      <td>...</td>\n",
       "    </tr>\n",
       "    <tr>\n",
       "      <th>9822</th>\n",
       "      <td>land</td>\n",
       "      <td>Rover</td>\n",
       "      <td>125156.0</td>\n",
       "      <td>2010</td>\n",
       "      <td>Nigerian Used</td>\n",
       "      <td>6770000</td>\n",
       "    </tr>\n",
       "    <tr>\n",
       "      <th>9834</th>\n",
       "      <td>land</td>\n",
       "      <td>Rover</td>\n",
       "      <td>89498.0</td>\n",
       "      <td>2010</td>\n",
       "      <td>Nigerian Used</td>\n",
       "      <td>2210000</td>\n",
       "    </tr>\n",
       "    <tr>\n",
       "      <th>9921</th>\n",
       "      <td>land</td>\n",
       "      <td>Rover</td>\n",
       "      <td>56561.0</td>\n",
       "      <td>2015</td>\n",
       "      <td>Nigerian Used</td>\n",
       "      <td>32210000</td>\n",
       "    </tr>\n",
       "    <tr>\n",
       "      <th>10044</th>\n",
       "      <td>land</td>\n",
       "      <td>Rover</td>\n",
       "      <td>50064.0</td>\n",
       "      <td>2010</td>\n",
       "      <td>Nigerian Used</td>\n",
       "      <td>4295000</td>\n",
       "    </tr>\n",
       "    <tr>\n",
       "      <th>10074</th>\n",
       "      <td>land</td>\n",
       "      <td>Rover</td>\n",
       "      <td>173979.0</td>\n",
       "      <td>2008</td>\n",
       "      <td>Nigerian Used</td>\n",
       "      <td>2655000</td>\n",
       "    </tr>\n",
       "  </tbody>\n",
       "</table>\n",
       "<p>83 rows × 6 columns</p>\n",
       "</div>"
      ],
      "text/plain": [
       "      car_name  model   Mileage  Year      Condition     Price\n",
       "5899      land  Rover   82891.0  2006  Nigerian Used   5386000\n",
       "6094      land  Rover   97332.0  2005  Nigerian Used   2026000\n",
       "6132      land  Rover  127165.0  2011   Foreign Used   9754000\n",
       "6169      land  Rover  151210.0  2007   Foreign Used   4490000\n",
       "6182      land  Rover   65965.0  2008  Nigerian Used   5050000\n",
       "...        ...    ...       ...   ...            ...       ...\n",
       "9822      land  Rover  125156.0  2010  Nigerian Used   6770000\n",
       "9834      land  Rover   89498.0  2010  Nigerian Used   2210000\n",
       "9921      land  Rover   56561.0  2015  Nigerian Used  32210000\n",
       "10044     land  Rover   50064.0  2010  Nigerian Used   4295000\n",
       "10074     land  Rover  173979.0  2008  Nigerian Used   2655000\n",
       "\n",
       "[83 rows x 6 columns]"
      ]
     },
     "execution_count": 11,
     "metadata": {},
     "output_type": "execute_result"
    }
   ],
   "source": [
    "car_data[car_data['car_name'] == 'land']"
   ]
  },
  {
   "cell_type": "code",
   "execution_count": 12,
   "id": "78acd572",
   "metadata": {},
   "outputs": [],
   "source": [
    "car_data.drop(car_data[car_data['car_name'] == 'land'].index, axis = 0, inplace = True)"
   ]
  },
  {
   "cell_type": "code",
   "execution_count": 13,
   "id": "f9897170",
   "metadata": {},
   "outputs": [
    {
     "data": {
      "text/plain": [
       "(9986, 6)"
      ]
     },
     "execution_count": 13,
     "metadata": {},
     "output_type": "execute_result"
    }
   ],
   "source": [
    "car_data.shape"
   ]
  },
  {
   "cell_type": "code",
   "execution_count": 14,
   "id": "f2edefc2",
   "metadata": {},
   "outputs": [
    {
     "data": {
      "text/html": [
       "<div>\n",
       "<style scoped>\n",
       "    .dataframe tbody tr th:only-of-type {\n",
       "        vertical-align: middle;\n",
       "    }\n",
       "\n",
       "    .dataframe tbody tr th {\n",
       "        vertical-align: top;\n",
       "    }\n",
       "\n",
       "    .dataframe thead th {\n",
       "        text-align: right;\n",
       "    }\n",
       "</style>\n",
       "<table border=\"1\" class=\"dataframe\">\n",
       "  <thead>\n",
       "    <tr style=\"text-align: right;\">\n",
       "      <th></th>\n",
       "      <th>car_name</th>\n",
       "      <th>model</th>\n",
       "      <th>Mileage</th>\n",
       "      <th>Year</th>\n",
       "      <th>Condition</th>\n",
       "      <th>Price</th>\n",
       "    </tr>\n",
       "  </thead>\n",
       "  <tbody>\n",
       "  </tbody>\n",
       "</table>\n",
       "</div>"
      ],
      "text/plain": [
       "Empty DataFrame\n",
       "Columns: [car_name, model, Mileage, Year, Condition, Price]\n",
       "Index: []"
      ]
     },
     "execution_count": 14,
     "metadata": {},
     "output_type": "execute_result"
    }
   ],
   "source": [
    "car_data[car_data['Price']<0]"
   ]
  },
  {
   "cell_type": "markdown",
   "id": "fab80503",
   "metadata": {},
   "source": [
    ">>Handling Categorical Feature By using get_dummies function"
   ]
  },
  {
   "cell_type": "code",
   "execution_count": 15,
   "id": "f9955d46",
   "metadata": {},
   "outputs": [],
   "source": [
    "from sklearn.preprocessing import LabelEncoder\n",
    "df2 = car_data.copy()\n",
    "\n",
    "# encode the categorical data\n",
    "le = LabelEncoder()\n",
    "\n",
    "df2['car_name'] = le.fit_transform(df2['car_name'].astype(str))\n",
    "df2['model'] = le.fit_transform(df2['model'].astype(str))\n",
    "df2['Condition'] = le.fit_transform(df2['Condition'].astype(str))"
   ]
  },
  {
   "cell_type": "code",
   "execution_count": 16,
   "id": "364e6c63",
   "metadata": {},
   "outputs": [
    {
     "data": {
      "text/html": [
       "<div>\n",
       "<style scoped>\n",
       "    .dataframe tbody tr th:only-of-type {\n",
       "        vertical-align: middle;\n",
       "    }\n",
       "\n",
       "    .dataframe tbody tr th {\n",
       "        vertical-align: top;\n",
       "    }\n",
       "\n",
       "    .dataframe thead th {\n",
       "        text-align: right;\n",
       "    }\n",
       "</style>\n",
       "<table border=\"1\" class=\"dataframe\">\n",
       "  <thead>\n",
       "    <tr style=\"text-align: right;\">\n",
       "      <th></th>\n",
       "      <th>car_name</th>\n",
       "      <th>model</th>\n",
       "      <th>Mileage</th>\n",
       "      <th>Year</th>\n",
       "      <th>Condition</th>\n",
       "      <th>Price</th>\n",
       "    </tr>\n",
       "  </thead>\n",
       "  <tbody>\n",
       "    <tr>\n",
       "      <th>10082</th>\n",
       "      <td>20</td>\n",
       "      <td>78</td>\n",
       "      <td>161088.0</td>\n",
       "      <td>2006</td>\n",
       "      <td>2</td>\n",
       "      <td>1735000</td>\n",
       "    </tr>\n",
       "    <tr>\n",
       "      <th>10083</th>\n",
       "      <td>16</td>\n",
       "      <td>35</td>\n",
       "      <td>67887.0</td>\n",
       "      <td>2013</td>\n",
       "      <td>2</td>\n",
       "      <td>2310000</td>\n",
       "    </tr>\n",
       "    <tr>\n",
       "      <th>10084</th>\n",
       "      <td>20</td>\n",
       "      <td>213</td>\n",
       "      <td>48502.0</td>\n",
       "      <td>2010</td>\n",
       "      <td>2</td>\n",
       "      <td>9210000</td>\n",
       "    </tr>\n",
       "    <tr>\n",
       "      <th>10085</th>\n",
       "      <td>14</td>\n",
       "      <td>311</td>\n",
       "      <td>80497.0</td>\n",
       "      <td>2005</td>\n",
       "      <td>2</td>\n",
       "      <td>3001250</td>\n",
       "    </tr>\n",
       "    <tr>\n",
       "      <th>10086</th>\n",
       "      <td>15</td>\n",
       "      <td>252</td>\n",
       "      <td>124776.0</td>\n",
       "      <td>2012</td>\n",
       "      <td>2</td>\n",
       "      <td>3957500</td>\n",
       "    </tr>\n",
       "  </tbody>\n",
       "</table>\n",
       "</div>"
      ],
      "text/plain": [
       "       car_name  model   Mileage  Year  Condition    Price\n",
       "10082        20     78  161088.0  2006          2  1735000\n",
       "10083        16     35   67887.0  2013          2  2310000\n",
       "10084        20    213   48502.0  2010          2  9210000\n",
       "10085        14    311   80497.0  2005          2  3001250\n",
       "10086        15    252  124776.0  2012          2  3957500"
      ]
     },
     "execution_count": 16,
     "metadata": {},
     "output_type": "execute_result"
    }
   ],
   "source": [
    "df2.tail()"
   ]
  },
  {
   "cell_type": "code",
   "execution_count": 17,
   "id": "b5e65bf6",
   "metadata": {},
   "outputs": [],
   "source": [
    "#car_data1 = car_data.drop(['car_name', 'model'], axis=1)"
   ]
  },
  {
   "cell_type": "code",
   "execution_count": 18,
   "id": "a801b38c",
   "metadata": {},
   "outputs": [],
   "source": [
    "#df = pd.get_dummies(car_data1, drop_first=True)"
   ]
  },
  {
   "cell_type": "code",
   "execution_count": 19,
   "id": "29249eb9",
   "metadata": {},
   "outputs": [
    {
     "name": "stderr",
     "output_type": "stream",
     "text": [
      "C:\\ProgramData\\Anaconda3\\lib\\site-packages\\seaborn\\distributions.py:2619: FutureWarning: `distplot` is a deprecated function and will be removed in a future version. Please adapt your code to use either `displot` (a figure-level function with similar flexibility) or `histplot` (an axes-level function for histograms).\n",
      "  warnings.warn(msg, FutureWarning)\n"
     ]
    },
    {
     "data": {
      "text/plain": [
       "<AxesSubplot:xlabel='Price', ylabel='Density'>"
      ]
     },
     "execution_count": 19,
     "metadata": {},
     "output_type": "execute_result"
    },
    {
     "data": {
      "image/png": "[encoded data removed]",
      "text/plain": [
       "<Figure size 432x288 with 1 Axes>"
      ]
     },
     "metadata": {
      "needs_background": "light"
     },
     "output_type": "display_data"
    }
   ],
   "source": [
    "# we can view the distribution of price only just to get a full insight on it\n",
    "sns.distplot(df2['Price'])"
   ]
  },
  {
   "cell_type": "code",
   "execution_count": 20,
   "id": "07062593",
   "metadata": {},
   "outputs": [
    {
     "data": {
      "text/plain": [
       "<AxesSubplot:>"
      ]
     },
     "execution_count": 20,
     "metadata": {},
     "output_type": "execute_result"
    },
    {
     "data": {
      "image/png": "[encoded data removed]",
      "text/plain": [
       "<Figure size 432x288 with 2 Axes>"
      ]
     },
     "metadata": {
      "needs_background": "light"
     },
     "output_type": "display_data"
    }
   ],
   "source": [
    "# we can also get the correlation of all attributes\n",
    "sns.heatmap(df2.corr())"
   ]
  },
  {
   "cell_type": "code",
   "execution_count": 21,
   "id": "05d2f01c",
   "metadata": {},
   "outputs": [],
   "source": [
    "#df2.drop(df2[df2['Price'] > 10000000].index, axis = 0, inplace = True)\n",
    "#drop cars prices above 16 million,\n",
    "#df_new = df.drop(df[df['Price'] > 20000000].index)"
   ]
  },
  {
   "cell_type": "code",
   "execution_count": 22,
   "id": "893a5b05",
   "metadata": {},
   "outputs": [],
   "source": [
    "#df2.shape"
   ]
  },
  {
   "cell_type": "markdown",
   "id": "135ac3fd",
   "metadata": {},
   "source": []
  },
  {
   "cell_type": "code",
   "execution_count": 23,
   "id": "24c01799",
   "metadata": {},
   "outputs": [],
   "source": [
    "df3 = df2.copy()"
   ]
  },
  {
   "cell_type": "code",
   "execution_count": 24,
   "id": "33559d35",
   "metadata": {},
   "outputs": [],
   "source": [
    "df3 = df3.drop(['Price'], axis=1)"
   ]
  },
  {
   "cell_type": "code",
   "execution_count": 25,
   "id": "afb196c8",
   "metadata": {},
   "outputs": [
    {
     "data": {
      "text/html": [
       "<div>\n",
       "<style scoped>\n",
       "    .dataframe tbody tr th:only-of-type {\n",
       "        vertical-align: middle;\n",
       "    }\n",
       "\n",
       "    .dataframe tbody tr th {\n",
       "        vertical-align: top;\n",
       "    }\n",
       "\n",
       "    .dataframe thead th {\n",
       "        text-align: right;\n",
       "    }\n",
       "</style>\n",
       "<table border=\"1\" class=\"dataframe\">\n",
       "  <thead>\n",
       "    <tr style=\"text-align: right;\">\n",
       "      <th></th>\n",
       "      <th>car_name</th>\n",
       "      <th>model</th>\n",
       "      <th>Mileage</th>\n",
       "      <th>Year</th>\n",
       "      <th>Condition</th>\n",
       "    </tr>\n",
       "  </thead>\n",
       "  <tbody>\n",
       "    <tr>\n",
       "      <th>0</th>\n",
       "      <td>12</td>\n",
       "      <td>211</td>\n",
       "      <td>21204.0</td>\n",
       "      <td>2018</td>\n",
       "      <td>0</td>\n",
       "    </tr>\n",
       "    <tr>\n",
       "      <th>1</th>\n",
       "      <td>20</td>\n",
       "      <td>78</td>\n",
       "      <td>140309.0</td>\n",
       "      <td>2013</td>\n",
       "      <td>0</td>\n",
       "    </tr>\n",
       "    <tr>\n",
       "      <th>2</th>\n",
       "      <td>20</td>\n",
       "      <td>355</td>\n",
       "      <td>172709.0</td>\n",
       "      <td>2013</td>\n",
       "      <td>0</td>\n",
       "    </tr>\n",
       "    <tr>\n",
       "      <th>3</th>\n",
       "      <td>14</td>\n",
       "      <td>54</td>\n",
       "      <td>114936.0</td>\n",
       "      <td>2010</td>\n",
       "      <td>0</td>\n",
       "    </tr>\n",
       "    <tr>\n",
       "      <th>4</th>\n",
       "      <td>20</td>\n",
       "      <td>215</td>\n",
       "      <td>123938.5</td>\n",
       "      <td>2012</td>\n",
       "      <td>0</td>\n",
       "    </tr>\n",
       "  </tbody>\n",
       "</table>\n",
       "</div>"
      ],
      "text/plain": [
       "   car_name  model   Mileage  Year  Condition\n",
       "0        12    211   21204.0  2018          0\n",
       "1        20     78  140309.0  2013          0\n",
       "2        20    355  172709.0  2013          0\n",
       "3        14     54  114936.0  2010          0\n",
       "4        20    215  123938.5  2012          0"
      ]
     },
     "execution_count": 25,
     "metadata": {},
     "output_type": "execute_result"
    }
   ],
   "source": [
    "df3.head()"
   ]
  },
  {
   "cell_type": "code",
   "execution_count": 26,
   "id": "e6b03793",
   "metadata": {},
   "outputs": [
    {
     "name": "stdout",
     "output_type": "stream",
     "text": [
      "[[1.20000e+01 2.11000e+02 2.12040e+04 2.01800e+03 0.00000e+00]\n",
      " [2.00000e+01 7.80000e+01 1.40309e+05 2.01300e+03 0.00000e+00]\n",
      " [2.00000e+01 3.55000e+02 1.72709e+05 2.01300e+03 0.00000e+00]\n",
      " ...\n",
      " [2.00000e+01 2.13000e+02 4.85020e+04 2.01000e+03 2.00000e+00]\n",
      " [1.40000e+01 3.11000e+02 8.04970e+04 2.00500e+03 2.00000e+00]\n",
      " [1.50000e+01 2.52000e+02 1.24776e+05 2.01200e+03 2.00000e+00]]\n"
     ]
    }
   ],
   "source": [
    "X = df3.iloc[:, :].values\n",
    "Y = df2.iloc[:, 5].values\n",
    "print(X)"
   ]
  },
  {
   "cell_type": "code",
   "execution_count": 46,
   "id": "b8fceea9",
   "metadata": {},
   "outputs": [],
   "source": [
    "X2 = pd.DataFrame(X)"
   ]
  },
  {
   "cell_type": "code",
   "execution_count": 27,
   "id": "a84dd9b4",
   "metadata": {},
   "outputs": [
    {
     "name": "stdout",
     "output_type": "stream",
     "text": [
      "[50015000  5015000  7115000 ...  9210000  3001250  3957500]\n"
     ]
    }
   ],
   "source": [
    "print(Y)"
   ]
  },
  {
   "cell_type": "code",
   "execution_count": 28,
   "id": "b0df0fb9",
   "metadata": {},
   "outputs": [],
   "source": [
    "from sklearn.model_selection import train_test_split"
   ]
  },
  {
   "cell_type": "code",
   "execution_count": 29,
   "id": "27debc10",
   "metadata": {},
   "outputs": [],
   "source": [
    "X_train, X_test, y_train, y_test = train_test_split(\n",
    "    X, Y, test_size=0.3, random_state=123\n",
    ")"
   ]
  },
  {
   "cell_type": "code",
   "execution_count": 30,
   "id": "f27915f8",
   "metadata": {},
   "outputs": [
    {
     "data": {
      "text/plain": [
       "array([[-0.55742702, -0.57089573, -0.35645489,  0.75252576, -0.70864474],\n",
       "       [ 0.89842833,  0.39496765, -0.14802493,  0.52304513, -0.70864474],\n",
       "       [ 0.89842833,  1.00498663, -0.47529956,  0.75252576, -0.70864474],\n",
       "       ...,\n",
       "       [-1.28535469,  1.26932818,  0.0337754 ,  0.75252576, -0.70864474],\n",
       "       [ 0.89842833,  1.81834526,  0.24720956,  0.75252576, -0.70864474],\n",
       "       [-0.55742702,  1.04565456, -0.26289946,  0.75252576, -0.70864474]])"
      ]
     },
     "execution_count": 30,
     "metadata": {},
     "output_type": "execute_result"
    }
   ],
   "source": [
    "# encode the numerical data\n",
    "from sklearn.preprocessing import StandardScaler\n",
    "sc = StandardScaler()\n",
    "X_train = sc.fit_transform(X_train)\n",
    "X_test = sc.transform(X_test)\n",
    "X_train"
   ]
  },
  {
   "cell_type": "code",
   "execution_count": 31,
   "id": "55cf3fa5",
   "metadata": {},
   "outputs": [],
   "source": [
    "from sklearn.preprocessing import StandardScaler"
   ]
  },
  {
   "cell_type": "code",
   "execution_count": 32,
   "id": "17031568",
   "metadata": {},
   "outputs": [],
   "source": [
    "sc = StandardScaler()"
   ]
  },
  {
   "cell_type": "code",
   "execution_count": 33,
   "id": "d832498d",
   "metadata": {},
   "outputs": [
    {
     "data": {
      "text/plain": [
       "array([[-0.55742702, -0.57089573, -0.35645489,  0.75252576, -0.70864474],\n",
       "       [ 0.89842833,  0.39496765, -0.14802493,  0.52304513, -0.70864474],\n",
       "       [ 0.89842833,  1.00498663, -0.47529956,  0.75252576, -0.70864474],\n",
       "       ...,\n",
       "       [-1.28535469,  1.26932818,  0.0337754 ,  0.75252576, -0.70864474],\n",
       "       [ 0.89842833,  1.81834526,  0.24720956,  0.75252576, -0.70864474],\n",
       "       [-0.55742702,  1.04565456, -0.26289946,  0.75252576, -0.70864474]])"
      ]
     },
     "execution_count": 33,
     "metadata": {},
     "output_type": "execute_result"
    }
   ],
   "source": [
    "X_train = sc.fit_transform(X_train)\n",
    "X_test = sc.transform(X_test)\n",
    "X_train"
   ]
  },
  {
   "cell_type": "code",
   "execution_count": 34,
   "id": "6b5e61c1",
   "metadata": {},
   "outputs": [],
   "source": [
    "from sklearn.linear_model import LinearRegression\n",
    "#assigned LnearRegression class to a variable lm\n",
    "lm = LinearRegression()"
   ]
  },
  {
   "cell_type": "code",
   "execution_count": 35,
   "id": "b3b9491a",
   "metadata": {},
   "outputs": [
    {
     "data": {
      "text/plain": [
       "LinearRegression()"
      ]
     },
     "execution_count": 35,
     "metadata": {},
     "output_type": "execute_result"
    }
   ],
   "source": [
    "#train the model\n",
    "lm.fit(X_train,y_train)"
   ]
  },
  {
   "cell_type": "code",
   "execution_count": 36,
   "id": "dcde6a4b",
   "metadata": {},
   "outputs": [],
   "source": [
    "predictions = lm.predict(X_test)"
   ]
  },
  {
   "cell_type": "code",
   "execution_count": 37,
   "id": "dd200d46",
   "metadata": {},
   "outputs": [
    {
     "data": {
      "text/plain": [
       "<matplotlib.collections.PathCollection at 0x1ea202e3b20>"
      ]
     },
     "execution_count": 37,
     "metadata": {},
     "output_type": "execute_result"
    },
    {
     "data": {
      "image/png": "[encoded data removed]",
      "text/plain": [
       "<Figure size 432x288 with 1 Axes>"
      ]
     },
     "metadata": {
      "needs_background": "light"
     },
     "output_type": "display_data"
    }
   ],
   "source": [
    "plt.scatter(y_test, predictions)"
   ]
  },
  {
   "cell_type": "code",
   "execution_count": 38,
   "id": "ce703ebc",
   "metadata": {},
   "outputs": [
    {
     "name": "stdout",
     "output_type": "stream",
     "text": [
      "6993505.459942776\n"
     ]
    }
   ],
   "source": [
    "print(lm.intercept_)"
   ]
  },
  {
   "cell_type": "code",
   "execution_count": 47,
   "id": "8089e2f2",
   "metadata": {},
   "outputs": [
    {
     "data": {
      "text/html": [
       "<div>\n",
       "<style scoped>\n",
       "    .dataframe tbody tr th:only-of-type {\n",
       "        vertical-align: middle;\n",
       "    }\n",
       "\n",
       "    .dataframe tbody tr th {\n",
       "        vertical-align: top;\n",
       "    }\n",
       "\n",
       "    .dataframe thead th {\n",
       "        text-align: right;\n",
       "    }\n",
       "</style>\n",
       "<table border=\"1\" class=\"dataframe\">\n",
       "  <thead>\n",
       "    <tr style=\"text-align: right;\">\n",
       "      <th></th>\n",
       "      <th>Coefficient</th>\n",
       "    </tr>\n",
       "  </thead>\n",
       "  <tbody>\n",
       "    <tr>\n",
       "      <th>0</th>\n",
       "      <td>-5.884141e+05</td>\n",
       "    </tr>\n",
       "    <tr>\n",
       "      <th>1</th>\n",
       "      <td>-1.325374e+04</td>\n",
       "    </tr>\n",
       "    <tr>\n",
       "      <th>2</th>\n",
       "      <td>-1.012606e+06</td>\n",
       "    </tr>\n",
       "    <tr>\n",
       "      <th>3</th>\n",
       "      <td>3.032019e+06</td>\n",
       "    </tr>\n",
       "    <tr>\n",
       "      <th>4</th>\n",
       "      <td>-3.639455e+05</td>\n",
       "    </tr>\n",
       "  </tbody>\n",
       "</table>\n",
       "</div>"
      ],
      "text/plain": [
       "    Coefficient\n",
       "0 -5.884141e+05\n",
       "1 -1.325374e+04\n",
       "2 -1.012606e+06\n",
       "3  3.032019e+06\n",
       "4 -3.639455e+05"
      ]
     },
     "execution_count": 47,
     "metadata": {},
     "output_type": "execute_result"
    }
   ],
   "source": [
    "coeff_df = pd.DataFrame(lm.coef_, X2.columns, columns=['Coefficient'])\n",
    "coeff_df"
   ]
  },
  {
   "cell_type": "code",
   "execution_count": 50,
   "id": "c1829cfc",
   "metadata": {},
   "outputs": [],
   "source": [
    "#OUTLIERS\n",
    "#IMBALANCED DATASET\n",
    "#MODEL ACCURACY\n",
    "#FEATURE SELECTION.\n",
    "#Differentiate between over and underfitting, defining what they are and explaining the best ways to avoid them.\n",
    "#What is regularization and when is appropiate to use it.\n",
    "#Develop a benchmark model.\n"
   ]
  },
  {
   "cell_type": "code",
   "execution_count": null,
   "id": "65778ceb",
   "metadata": {},
   "outputs": [],
   "source": []
  }
 ],
 "metadata": {
  "kernelspec": {
   "display_name": "Python 3 (ipykernel)",
   "language": "python",
   "name": "python3"
  },
  "language_info": {
   "codemirror_mode": {
    "name": "ipython",
    "version": 3
   },
   "file_extension": ".py",
   "mimetype": "text/x-python",
   "name": "python",
   "nbconvert_exporter": "python",
   "pygments_lexer": "ipython3",
   "version": "3.9.7"
  }
 },
 "nbformat": 4,
 "nbformat_minor": 5
}
