{
 "cells": [
  {
   "cell_type": "markdown",
   "id": "570c8625",
   "metadata": {},
   "source": [
    ">Creating and Training a regression model"
   ]
  },
  {
   "cell_type": "code",
   "execution_count": 1,
   "id": "05b3f6ca",
   "metadata": {},
   "outputs": [],
   "source": [
    "import pandas as pd\n",
    "import numpy as np\n",
    "import seaborn as sns"
   ]
  },
  {
   "cell_type": "code",
   "execution_count": 2,
   "id": "79497b89",
   "metadata": {},
   "outputs": [],
   "source": [
    "#plt.rcParams['figure.figsize']=(23,10)\n",
    "#ax = sns.boxplot(x=\"make\", y=\"price\", data=automobile)"
   ]
  },
  {
   "cell_type": "code",
   "execution_count": null,
   "id": "8160a322",
   "metadata": {},
   "outputs": [],
   "source": []
  }
 ],
 "metadata": {
  "kernelspec": {
   "display_name": "Python 3 (ipykernel)",
   "language": "python",
   "name": "python3"
  },
  "language_info": {
   "codemirror_mode": {
    "name": "ipython",
    "version": 3
   },
   "file_extension": ".py",
   "mimetype": "text/x-python",
   "name": "python",
   "nbconvert_exporter": "python",
   "pygments_lexer": "ipython3",
   "version": "3.9.7"
  }
 },
 "nbformat": 4,
 "nbformat_minor": 5
}
