{
 "cells": [
  {
   "cell_type": "code",
   "execution_count": 21,
   "metadata": {},
   "outputs": [],
   "source": [
    "from bs4 import BeautifulSoup\n",
    "import requests\n",
    "import pandas as pd\n",
    "import numpy as np\n",
    "import re\n",
    "import requests  \n",
    "from bs4 import BeautifulSoup "
   ]
  },
  {
   "cell_type": "code",
   "execution_count": 22,
   "metadata": {},
   "outputs": [],
   "source": [
    "urls =[] \n",
    "for i in range(1,11):\n",
    "    sites = f'https://buy.cars45.com/cars?page={i}'\n",
    "    urls.append(sites)"
   ]
  },
  {
   "cell_type": "code",
   "execution_count": 23,
   "metadata": {},
   "outputs": [],
   "source": [
    "def get_datas(url):\n",
    "    details=[]\n",
    "    rs = requests.get(url)\n",
    "    soup = BeautifulSoup(rs.text, 'lxml')\n",
    "    results1 = soup.find_all('figcaption')\n",
    "    details.append(results1)\n",
    "    car_details1 = []  \n",
    "    for car_detail1 in results1:\n",
    "        CarId = car_detail1.find_all('span', class_ = 'intersemibold')\n",
    "        Make = car_detail1.find('h4').get_text(strip=True).split('C45')[0]\n",
    "        Year = car_detail1.find_all(class_ = 'intersemibold')\n",
    "        Mileage = car_detail1.find_all(class_ = 'text-small mb-1')\n",
    "        Condition = car_detail1.find(class_ = 'd-none d-sm-block').text\n",
    "        Price = car_detail1.find(class_ = 'price').text\n",
    "        car_details1.append((CarId, Make, Year, Mileage, Condition, Price))\n",
    "    return car_details1"
   ]
  },
  {
   "cell_type": "code",
   "execution_count": 24,
   "metadata": {},
   "outputs": [],
   "source": [
    "#for url in urls:\n",
    "#    output_data = get_datas(url)\n",
    " #   df = pd.DataFrame(output_data)\n",
    " #   df.to_csv(index=False)"
   ]
  },
  {
   "cell_type": "code",
   "execution_count": 25,
   "metadata": {},
   "outputs": [],
   "source": [
    "output_list = [get_datas(url) for url in urls]"
   ]
  },
  {
   "cell_type": "code",
   "execution_count": 59,
   "metadata": {},
   "outputs": [],
   "source": [
    "#output_list"
   ]
  },
  {
   "cell_type": "code",
   "execution_count": 81,
   "metadata": {},
   "outputs": [],
   "source": [
    "df = pd.DataFrame(output_list[0])"
   ]
  },
  {
   "cell_type": "code",
   "execution_count": 84,
   "metadata": {},
   "outputs": [],
   "source": [
    "df1 = df.append(pd.DataFrame(output_list[1]))"
   ]
  },
  {
   "cell_type": "code",
   "execution_count": 88,
   "metadata": {},
   "outputs": [],
   "source": [
    "df2 = df1.append(pd.DataFrame(output_list[2]))"
   ]
  },
  {
   "cell_type": "code",
   "execution_count": 89,
   "metadata": {},
   "outputs": [
    {
     "data": {
      "text/plain": [
       "(180, 6)"
      ]
     },
     "execution_count": 89,
     "metadata": {},
     "output_type": "execute_result"
    }
   ],
   "source": [
    "df2.shape"
   ]
  },
  {
   "cell_type": "code",
   "execution_count": 90,
   "metadata": {},
   "outputs": [
    {
     "data": {
      "text/html": [
       "<div>\n",
       "<style scoped>\n",
       "    .dataframe tbody tr th:only-of-type {\n",
       "        vertical-align: middle;\n",
       "    }\n",
       "\n",
       "    .dataframe tbody tr th {\n",
       "        vertical-align: top;\n",
       "    }\n",
       "\n",
       "    .dataframe thead th {\n",
       "        text-align: right;\n",
       "    }\n",
       "</style>\n",
       "<table border=\"1\" class=\"dataframe\">\n",
       "  <thead>\n",
       "    <tr style=\"text-align: right;\">\n",
       "      <th></th>\n",
       "      <th>0</th>\n",
       "      <th>1</th>\n",
       "      <th>2</th>\n",
       "      <th>3</th>\n",
       "      <th>4</th>\n",
       "      <th>5</th>\n",
       "    </tr>\n",
       "  </thead>\n",
       "  <tbody>\n",
       "    <tr>\n",
       "      <th>0</th>\n",
       "      <td>[[177,341Km], [2005], [NG-805925]]</td>\n",
       "      <td>Ford F-150 2005</td>\n",
       "      <td>[[177,341Km], [2005], [NG-805925]]</td>\n",
       "      <td>[[\\n, [Mileage:],  , [177,341Km], \\n], [\\n, [Y...</td>\n",
       "      <td>Foreign Used</td>\n",
       "      <td>₦ 3,270,000                                   ...</td>\n",
       "    </tr>\n",
       "    <tr>\n",
       "      <th>1</th>\n",
       "      <td>[[2015], [NL-000222]]</td>\n",
       "      <td>2015 Toyota Corolla</td>\n",
       "      <td>[[2015], [NL-000222]]</td>\n",
       "      <td>[[\\n, [Year:],  , [2015], \\n], [\\n, [Car ID:],...</td>\n",
       "      <td>Foreign Used</td>\n",
       "      <td>₦ 4,750,000                                   ...</td>\n",
       "    </tr>\n",
       "    <tr>\n",
       "      <th>2</th>\n",
       "      <td>[[2019], [NL-000162]]</td>\n",
       "      <td>2019 Mercedes-Benz GLC300</td>\n",
       "      <td>[[2019], [NL-000162]]</td>\n",
       "      <td>[[\\n, [Year:],  , [2019], \\n], [\\n, [Car ID:],...</td>\n",
       "      <td>Foreign Used</td>\n",
       "      <td>₦ 20,000,000                                  ...</td>\n",
       "    </tr>\n",
       "    <tr>\n",
       "      <th>3</th>\n",
       "      <td>[[2014], [NL-000217]]</td>\n",
       "      <td>2014 Mercedes-Benz ML350</td>\n",
       "      <td>[[2014], [NL-000217]]</td>\n",
       "      <td>[[\\n, [Year:],  , [2014], \\n], [\\n, [Car ID:],...</td>\n",
       "      <td>Foreign Used</td>\n",
       "      <td>₦ 15,200,000                                  ...</td>\n",
       "    </tr>\n",
       "    <tr>\n",
       "      <th>4</th>\n",
       "      <td>[[93,916Km], [2015], [NG-801404]]</td>\n",
       "      <td>2015 Mercedes-Benz C300</td>\n",
       "      <td>[[93,916Km], [2015], [NG-801404]]</td>\n",
       "      <td>[[\\n, [Mileage:],  , [93,916Km], \\n], [\\n, [Ye...</td>\n",
       "      <td>Nigerian Used</td>\n",
       "      <td>₦ 10,090,000                                  ...</td>\n",
       "    </tr>\n",
       "  </tbody>\n",
       "</table>\n",
       "</div>"
      ],
      "text/plain": [
       "                                    0                          1  \\\n",
       "0  [[177,341Km], [2005], [NG-805925]]            Ford F-150 2005   \n",
       "1               [[2015], [NL-000222]]        2015 Toyota Corolla   \n",
       "2               [[2019], [NL-000162]]  2019 Mercedes-Benz GLC300   \n",
       "3               [[2014], [NL-000217]]   2014 Mercedes-Benz ML350   \n",
       "4   [[93,916Km], [2015], [NG-801404]]    2015 Mercedes-Benz C300   \n",
       "\n",
       "                                    2  \\\n",
       "0  [[177,341Km], [2005], [NG-805925]]   \n",
       "1               [[2015], [NL-000222]]   \n",
       "2               [[2019], [NL-000162]]   \n",
       "3               [[2014], [NL-000217]]   \n",
       "4   [[93,916Km], [2015], [NG-801404]]   \n",
       "\n",
       "                                                   3                 4  \\\n",
       "0  [[\\n, [Mileage:],  , [177,341Km], \\n], [\\n, [Y...    Foreign Used     \n",
       "1  [[\\n, [Year:],  , [2015], \\n], [\\n, [Car ID:],...    Foreign Used     \n",
       "2  [[\\n, [Year:],  , [2019], \\n], [\\n, [Car ID:],...    Foreign Used     \n",
       "3  [[\\n, [Year:],  , [2014], \\n], [\\n, [Car ID:],...    Foreign Used     \n",
       "4  [[\\n, [Mileage:],  , [93,916Km], \\n], [\\n, [Ye...   Nigerian Used     \n",
       "\n",
       "                                                   5  \n",
       "0  ₦ 3,270,000                                   ...  \n",
       "1  ₦ 4,750,000                                   ...  \n",
       "2  ₦ 20,000,000                                  ...  \n",
       "3  ₦ 15,200,000                                  ...  \n",
       "4  ₦ 10,090,000                                  ...  "
      ]
     },
     "execution_count": 90,
     "metadata": {},
     "output_type": "execute_result"
    }
   ],
   "source": [
    "df2.head()"
   ]
  },
  {
   "cell_type": "code",
   "execution_count": null,
   "metadata": {},
   "outputs": [],
   "source": []
  }
 ],
 "metadata": {
  "kernelspec": {
   "display_name": "Python 3",
   "language": "python",
   "name": "python3"
  },
  "language_info": {
   "codemirror_mode": {
    "name": "ipython",
    "version": 3
   },
   "file_extension": ".py",
   "mimetype": "text/x-python",
   "name": "python",
   "nbconvert_exporter": "python",
   "pygments_lexer": "ipython3",
   "version": "3.7.6"
  }
 },
 "nbformat": 4,
 "nbformat_minor": 4
}
