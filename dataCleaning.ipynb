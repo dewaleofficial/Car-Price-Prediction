{
 "cells": [
  {
   "cell_type": "code",
   "execution_count": 70,
   "metadata": {},
   "outputs": [],
   "source": [
    "import pandas as pd\n",
    "import numpy as np\n",
    "import re"
   ]
  },
  {
   "cell_type": "code",
   "execution_count": 71,
   "metadata": {},
   "outputs": [],
   "source": [
    "cars_df = pd.read_csv('./webscraping/cars_data.csv')"
   ]
  },
  {
   "cell_type": "code",
   "execution_count": 72,
   "metadata": {},
   "outputs": [
    {
     "data": {
      "text/html": [
       "<div>\n",
       "<style scoped>\n",
       "    .dataframe tbody tr th:only-of-type {\n",
       "        vertical-align: middle;\n",
       "    }\n",
       "\n",
       "    .dataframe tbody tr th {\n",
       "        vertical-align: top;\n",
       "    }\n",
       "\n",
       "    .dataframe thead th {\n",
       "        text-align: right;\n",
       "    }\n",
       "</style>\n",
       "<table border=\"1\" class=\"dataframe\">\n",
       "  <thead>\n",
       "    <tr style=\"text-align: right;\">\n",
       "      <th></th>\n",
       "      <th>make</th>\n",
       "      <th>mileage</th>\n",
       "      <th>year</th>\n",
       "      <th>condition</th>\n",
       "      <th>price</th>\n",
       "    </tr>\n",
       "  </thead>\n",
       "  <tbody>\n",
       "    <tr>\n",
       "      <th>0</th>\n",
       "      <td>Ford F-150 2005</td>\n",
       "      <td>177,341Km\\r\\n</td>\n",
       "      <td>2005\\r\\n</td>\n",
       "      <td>Foreign Used</td>\n",
       "      <td>3,270,000                                    ...</td>\n",
       "    </tr>\n",
       "    <tr>\n",
       "      <th>1</th>\n",
       "      <td>2015 Toyota Corolla</td>\n",
       "      <td>2015\\r\\n</td>\n",
       "      <td>NL-000222\\r\\n</td>\n",
       "      <td>Foreign Used</td>\n",
       "      <td>4,750,000                                    ...</td>\n",
       "    </tr>\n",
       "    <tr>\n",
       "      <th>2</th>\n",
       "      <td>2019 Mercedes-Benz GLC300</td>\n",
       "      <td>2019\\r\\n</td>\n",
       "      <td>NL-000162\\r\\n</td>\n",
       "      <td>Foreign Used</td>\n",
       "      <td>20,000,000                                   ...</td>\n",
       "    </tr>\n",
       "    <tr>\n",
       "      <th>3</th>\n",
       "      <td>2014 Mercedes-Benz ML350</td>\n",
       "      <td>2014\\r\\n</td>\n",
       "      <td>NL-000217\\r\\n</td>\n",
       "      <td>Foreign Used</td>\n",
       "      <td>15,200,000                                   ...</td>\n",
       "    </tr>\n",
       "    <tr>\n",
       "      <th>4</th>\n",
       "      <td>2015 Mercedes-Benz C300</td>\n",
       "      <td>93,916Km\\r\\n</td>\n",
       "      <td>2015\\r\\n</td>\n",
       "      <td>Nigerian Used</td>\n",
       "      <td>10,090,000                                   ...</td>\n",
       "    </tr>\n",
       "    <tr>\n",
       "      <th>...</th>\n",
       "      <td>...</td>\n",
       "      <td>...</td>\n",
       "      <td>...</td>\n",
       "      <td>...</td>\n",
       "      <td>...</td>\n",
       "    </tr>\n",
       "    <tr>\n",
       "      <th>4555</th>\n",
       "      <td>1999 Seat Cordoba</td>\n",
       "      <td>279,649Km\\r\\n</td>\n",
       "      <td>1999\\r\\n</td>\n",
       "      <td>Foreign Used</td>\n",
       "      <td>1,275,000                                    ...</td>\n",
       "    </tr>\n",
       "    <tr>\n",
       "      <th>4556</th>\n",
       "      <td>2011 Cadillac Escalade</td>\n",
       "      <td>21,308Km\\r\\n</td>\n",
       "      <td>2011\\r\\n</td>\n",
       "      <td>Nigerian Used</td>\n",
       "      <td>4,520,000                                    ...</td>\n",
       "    </tr>\n",
       "    <tr>\n",
       "      <th>4557</th>\n",
       "      <td>2010 Toyota Land Cruiser Prado</td>\n",
       "      <td>48,502Km\\r\\n</td>\n",
       "      <td>2010\\r\\n</td>\n",
       "      <td>Nigerian Used</td>\n",
       "      <td>9,210,000                                    ...</td>\n",
       "    </tr>\n",
       "    <tr>\n",
       "      <th>4558</th>\n",
       "      <td>2005 Mercedes-Benz Slk350</td>\n",
       "      <td>80,497Km\\r\\n</td>\n",
       "      <td>2005\\r\\n</td>\n",
       "      <td>Nigerian Used</td>\n",
       "      <td>3,001,250                                    ...</td>\n",
       "    </tr>\n",
       "    <tr>\n",
       "      <th>4559</th>\n",
       "      <td>2012 Mitsubishi Pajero</td>\n",
       "      <td>124,776Km\\r\\n</td>\n",
       "      <td>2012\\r\\n</td>\n",
       "      <td>Nigerian Used</td>\n",
       "      <td>3,957,500                                    ...</td>\n",
       "    </tr>\n",
       "  </tbody>\n",
       "</table>\n",
       "<p>4560 rows × 5 columns</p>\n",
       "</div>"
      ],
      "text/plain": [
       "                                make         mileage            year  \\\n",
       "0                    Ford F-150 2005   177,341Km\\r\\n        2005\\r\\n   \n",
       "1                2015 Toyota Corolla        2015\\r\\n   NL-000222\\r\\n   \n",
       "2          2019 Mercedes-Benz GLC300        2019\\r\\n   NL-000162\\r\\n   \n",
       "3           2014 Mercedes-Benz ML350        2014\\r\\n   NL-000217\\r\\n   \n",
       "4            2015 Mercedes-Benz C300    93,916Km\\r\\n        2015\\r\\n   \n",
       "...                              ...             ...             ...   \n",
       "4555               1999 Seat Cordoba   279,649Km\\r\\n        1999\\r\\n   \n",
       "4556          2011 Cadillac Escalade    21,308Km\\r\\n        2011\\r\\n   \n",
       "4557  2010 Toyota Land Cruiser Prado    48,502Km\\r\\n        2010\\r\\n   \n",
       "4558       2005 Mercedes-Benz Slk350    80,497Km\\r\\n        2005\\r\\n   \n",
       "4559          2012 Mitsubishi Pajero   124,776Km\\r\\n        2012\\r\\n   \n",
       "\n",
       "             condition                                              price  \n",
       "0       Foreign Used     3,270,000                                    ...  \n",
       "1       Foreign Used     4,750,000                                    ...  \n",
       "2       Foreign Used     20,000,000                                   ...  \n",
       "3       Foreign Used     15,200,000                                   ...  \n",
       "4      Nigerian Used     10,090,000                                   ...  \n",
       "...                ...                                                ...  \n",
       "4555    Foreign Used     1,275,000                                    ...  \n",
       "4556   Nigerian Used     4,520,000                                    ...  \n",
       "4557   Nigerian Used     9,210,000                                    ...  \n",
       "4558   Nigerian Used     3,001,250                                    ...  \n",
       "4559   Nigerian Used     3,957,500                                    ...  \n",
       "\n",
       "[4560 rows x 5 columns]"
      ]
     },
     "execution_count": 72,
     "metadata": {},
     "output_type": "execute_result"
    }
   ],
   "source": [
    "cars_df"
   ]
  },
  {
   "cell_type": "code",
   "execution_count": 73,
   "metadata": {},
   "outputs": [
    {
     "data": {
      "text/plain": [
       "' 3,270,000                                        \\r\\n                                    '"
      ]
     },
     "execution_count": 73,
     "metadata": {},
     "output_type": "execute_result"
    }
   ],
   "source": [
    "cars_df['price'][0]"
   ]
  },
  {
   "cell_type": "code",
   "execution_count": 42,
   "metadata": {},
   "outputs": [
    {
     "ename": "SyntaxError",
     "evalue": "unexpected EOF while parsing (<ipython-input-42-580d2d989039>, line 2)",
     "output_type": "error",
     "traceback": [
      "\u001b[1;36m  File \u001b[1;32m\"<ipython-input-42-580d2d989039>\"\u001b[1;36m, line \u001b[1;32m2\u001b[0m\n\u001b[1;33m    \u001b[0m\n\u001b[1;37m    ^\u001b[0m\n\u001b[1;31mSyntaxError\u001b[0m\u001b[1;31m:\u001b[0m unexpected EOF while parsing\n"
     ]
    }
   ],
   "source": [
    "def clean_column1():\n",
    "    "
   ]
  },
  {
   "cell_type": "code",
   "execution_count": 13,
   "metadata": {},
   "outputs": [],
   "source": [
    "data['price'] = data['price'].map(lambda x: x.lstrip('+-').rstrip('aAbBcC'))"
   ]
  },
  {
   "cell_type": "code",
   "execution_count": 34,
   "metadata": {},
   "outputs": [],
   "source": [
    "cars_df['price'] = cars_df['price'].replace(regex=True,to_replace=r'\\r''\\n',value=r'')"
   ]
  },
  {
   "cell_type": "code",
   "execution_count": 35,
   "metadata": {},
   "outputs": [
    {
     "data": {
      "text/plain": [
       "' 3,270,000                                                                            '"
      ]
     },
     "execution_count": 35,
     "metadata": {},
     "output_type": "execute_result"
    }
   ],
   "source": [
    "cars_df['price'][0]"
   ]
  },
  {
   "cell_type": "code",
   "execution_count": 40,
   "metadata": {},
   "outputs": [],
   "source": [
    "cars_df['price'] = cars_df['price'].replace(regex=True,to_replace='                                                                            ', value = r'')"
   ]
  },
  {
   "cell_type": "code",
   "execution_count": 41,
   "metadata": {},
   "outputs": [
    {
     "data": {
      "text/plain": [
       "' 3,270,000'"
      ]
     },
     "execution_count": 41,
     "metadata": {},
     "output_type": "execute_result"
    }
   ],
   "source": [
    "cars_df['price'][0]"
   ]
  },
  {
   "cell_type": "code",
   "execution_count": 60,
   "metadata": {},
   "outputs": [],
   "source": [
    "cars_df['price']= cars_df['price'].replace(regex=True,to_replace=',', value = r'')"
   ]
  },
  {
   "cell_type": "code",
   "execution_count": 61,
   "metadata": {},
   "outputs": [
    {
     "data": {
      "text/plain": [
       "' 3270000'"
      ]
     },
     "execution_count": 61,
     "metadata": {},
     "output_type": "execute_result"
    }
   ],
   "source": [
    "cars_df['price'][0]"
   ]
  },
  {
   "cell_type": "code",
   "execution_count": 62,
   "metadata": {},
   "outputs": [],
   "source": [
    "cars_df['price'] = cars_df['price'].replace(regex=True,to_replace=' ', value = r'')"
   ]
  },
  {
   "cell_type": "code",
   "execution_count": 63,
   "metadata": {},
   "outputs": [
    {
     "data": {
      "text/plain": [
       "'3270000'"
      ]
     },
     "execution_count": 63,
     "metadata": {},
     "output_type": "execute_result"
    }
   ],
   "source": [
    "cars_df['price'][0]"
   ]
  },
  {
   "cell_type": "code",
   "execution_count": 74,
   "metadata": {},
   "outputs": [],
   "source": [
    "cars_df['price'] = cars_df['price'].replace(regex=True,to_replace=r'\\r''\\n',value=r'').replace(regex=True,to_replace='                                                                            ', value = r'').replace(regex=True,to_replace=',', value = r'').replace(regex=True,to_replace=' ', value = r'')"
   ]
  },
  {
   "cell_type": "code",
   "execution_count": 75,
   "metadata": {},
   "outputs": [
    {
     "data": {
      "text/plain": [
       "'3270000'"
      ]
     },
     "execution_count": 75,
     "metadata": {},
     "output_type": "execute_result"
    }
   ],
   "source": [
    "cars_df['price'][0]"
   ]
  },
  {
   "cell_type": "code",
   "execution_count": null,
   "metadata": {},
   "outputs": [],
   "source": []
  }
 ],
 "metadata": {
  "kernelspec": {
   "display_name": "Python 3",
   "language": "python",
   "name": "python3"
  },
  "language_info": {
   "codemirror_mode": {
    "name": "ipython",
    "version": 3
   },
   "file_extension": ".py",
   "mimetype": "text/x-python",
   "name": "python",
   "nbconvert_exporter": "python",
   "pygments_lexer": "ipython3",
   "version": "3.7.6"
  }
 },
 "nbformat": 4,
 "nbformat_minor": 4
}
