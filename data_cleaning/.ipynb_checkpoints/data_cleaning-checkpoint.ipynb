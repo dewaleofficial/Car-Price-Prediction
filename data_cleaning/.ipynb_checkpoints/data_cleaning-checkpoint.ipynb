{
 "cells": [
  {
   "cell_type": "code",
   "execution_count": 85,
   "metadata": {},
   "outputs": [],
   "source": [
    "#import libraries\n",
    "import pandas as pd\n",
    "import numpy as np\n",
    "import re"
   ]
  },
  {
   "cell_type": "code",
   "execution_count": 88,
   "metadata": {},
   "outputs": [],
   "source": [
    "#load cars dataset\n",
    "cars_df = pd.read_csv('./webscraping/cars_data.csv')"
   ]
  },
  {
   "cell_type": "code",
   "execution_count": 90,
   "metadata": {},
   "outputs": [
    {
     "data": {
      "text/html": [
       "<div>\n",
       "<style scoped>\n",
       "    .dataframe tbody tr th:only-of-type {\n",
       "        vertical-align: middle;\n",
       "    }\n",
       "\n",
       "    .dataframe tbody tr th {\n",
       "        vertical-align: top;\n",
       "    }\n",
       "\n",
       "    .dataframe thead th {\n",
       "        text-align: right;\n",
       "    }\n",
       "</style>\n",
       "<table border=\"1\" class=\"dataframe\">\n",
       "  <thead>\n",
       "    <tr style=\"text-align: right;\">\n",
       "      <th></th>\n",
       "      <th>make</th>\n",
       "      <th>mileage</th>\n",
       "      <th>year</th>\n",
       "      <th>condition</th>\n",
       "      <th>price</th>\n",
       "    </tr>\n",
       "  </thead>\n",
       "  <tbody>\n",
       "    <tr>\n",
       "      <th>0</th>\n",
       "      <td>Ford F-150 2005</td>\n",
       "      <td>177,341Km\\r\\n</td>\n",
       "      <td>2005\\r\\n</td>\n",
       "      <td>Foreign Used</td>\n",
       "      <td>3,270,000                                    ...</td>\n",
       "    </tr>\n",
       "    <tr>\n",
       "      <th>1</th>\n",
       "      <td>2015 Toyota Corolla</td>\n",
       "      <td>2015\\r\\n</td>\n",
       "      <td>NL-000222\\r\\n</td>\n",
       "      <td>Foreign Used</td>\n",
       "      <td>4,750,000                                    ...</td>\n",
       "    </tr>\n",
       "    <tr>\n",
       "      <th>2</th>\n",
       "      <td>2019 Mercedes-Benz GLC300</td>\n",
       "      <td>2019\\r\\n</td>\n",
       "      <td>NL-000162\\r\\n</td>\n",
       "      <td>Foreign Used</td>\n",
       "      <td>20,000,000                                   ...</td>\n",
       "    </tr>\n",
       "    <tr>\n",
       "      <th>3</th>\n",
       "      <td>2014 Mercedes-Benz ML350</td>\n",
       "      <td>2014\\r\\n</td>\n",
       "      <td>NL-000217\\r\\n</td>\n",
       "      <td>Foreign Used</td>\n",
       "      <td>15,200,000                                   ...</td>\n",
       "    </tr>\n",
       "    <tr>\n",
       "      <th>4</th>\n",
       "      <td>2015 Mercedes-Benz C300</td>\n",
       "      <td>93,916Km\\r\\n</td>\n",
       "      <td>2015\\r\\n</td>\n",
       "      <td>Nigerian Used</td>\n",
       "      <td>10,090,000                                   ...</td>\n",
       "    </tr>\n",
       "    <tr>\n",
       "      <th>5</th>\n",
       "      <td>2017 Mitsubishi Outlander</td>\n",
       "      <td>2017\\r\\n</td>\n",
       "      <td>NL-000218\\r\\n</td>\n",
       "      <td>Foreign Used</td>\n",
       "      <td>13,500,000                                   ...</td>\n",
       "    </tr>\n",
       "    <tr>\n",
       "      <th>6</th>\n",
       "      <td>2016 Lexus GX460</td>\n",
       "      <td>2016\\r\\n</td>\n",
       "      <td>NL-000163\\r\\n</td>\n",
       "      <td>Foreign Used</td>\n",
       "      <td>18,000,000                                   ...</td>\n",
       "    </tr>\n",
       "    <tr>\n",
       "      <th>7</th>\n",
       "      <td>2016 Mercedes Benz GLE450</td>\n",
       "      <td>2016\\r\\n</td>\n",
       "      <td>NL-000169\\r\\n</td>\n",
       "      <td>Foreign Used</td>\n",
       "      <td>40,000,000                                   ...</td>\n",
       "    </tr>\n",
       "    <tr>\n",
       "      <th>8</th>\n",
       "      <td>2017 Lexus IS250</td>\n",
       "      <td>2017\\r\\n</td>\n",
       "      <td>NL-000168\\r\\n</td>\n",
       "      <td>Foreign Used</td>\n",
       "      <td>9,000,000                                    ...</td>\n",
       "    </tr>\n",
       "    <tr>\n",
       "      <th>9</th>\n",
       "      <td>2010 Mazda 3</td>\n",
       "      <td>201,640Km\\r\\n</td>\n",
       "      <td>2010\\r\\n</td>\n",
       "      <td>Foreign Used</td>\n",
       "      <td>2,250,000                                    ...</td>\n",
       "    </tr>\n",
       "  </tbody>\n",
       "</table>\n",
       "</div>"
      ],
      "text/plain": [
       "                        make         mileage            year  \\\n",
       "0            Ford F-150 2005   177,341Km\\r\\n        2005\\r\\n   \n",
       "1        2015 Toyota Corolla        2015\\r\\n   NL-000222\\r\\n   \n",
       "2  2019 Mercedes-Benz GLC300        2019\\r\\n   NL-000162\\r\\n   \n",
       "3   2014 Mercedes-Benz ML350        2014\\r\\n   NL-000217\\r\\n   \n",
       "4    2015 Mercedes-Benz C300    93,916Km\\r\\n        2015\\r\\n   \n",
       "5  2017 Mitsubishi Outlander        2017\\r\\n   NL-000218\\r\\n   \n",
       "6           2016 Lexus GX460        2016\\r\\n   NL-000163\\r\\n   \n",
       "7  2016 Mercedes Benz GLE450        2016\\r\\n   NL-000169\\r\\n   \n",
       "8           2017 Lexus IS250        2017\\r\\n   NL-000168\\r\\n   \n",
       "9               2010 Mazda 3   201,640Km\\r\\n        2010\\r\\n   \n",
       "\n",
       "          condition                                              price  \n",
       "0    Foreign Used     3,270,000                                    ...  \n",
       "1    Foreign Used     4,750,000                                    ...  \n",
       "2    Foreign Used     20,000,000                                   ...  \n",
       "3    Foreign Used     15,200,000                                   ...  \n",
       "4   Nigerian Used     10,090,000                                   ...  \n",
       "5    Foreign Used     13,500,000                                   ...  \n",
       "6    Foreign Used     18,000,000                                   ...  \n",
       "7    Foreign Used     40,000,000                                   ...  \n",
       "8    Foreign Used     9,000,000                                    ...  \n",
       "9    Foreign Used     2,250,000                                    ...  "
      ]
     },
     "execution_count": 90,
     "metadata": {},
     "output_type": "execute_result"
    }
   ],
   "source": [
    "cars_df.head(10)"
   ]
  },
  {
   "cell_type": "code",
   "execution_count": 99,
   "metadata": {},
   "outputs": [
    {
     "data": {
      "text/plain": [
       "Index(['make', 'mileage', 'year', 'condition', 'price'], dtype='object')"
      ]
     },
     "execution_count": 99,
     "metadata": {},
     "output_type": "execute_result"
    }
   ],
   "source": [
    "cars_df.columns"
   ]
  },
  {
   "cell_type": "code",
   "execution_count": 44,
   "metadata": {},
   "outputs": [
    {
     "name": "stdout",
     "output_type": "stream",
     "text": [
      "<class 'pandas.core.frame.DataFrame'>\n",
      "RangeIndex: 4560 entries, 0 to 4559\n",
      "Data columns (total 5 columns):\n",
      " #   Column     Non-Null Count  Dtype \n",
      "---  ------     --------------  ----- \n",
      " 0   make       4559 non-null   object\n",
      " 1   mileage    4560 non-null   object\n",
      " 2   year       4560 non-null   object\n",
      " 3   condition  4560 non-null   object\n",
      " 4   price      4560 non-null   object\n",
      "dtypes: object(5)\n",
      "memory usage: 178.2+ KB\n"
     ]
    }
   ],
   "source": [
    "cars_df.info()"
   ]
  },
  {
   "cell_type": "code",
   "execution_count": 91,
   "metadata": {},
   "outputs": [],
   "source": [
    "#remove unwanted characters and white spaces in price column\n",
    "cars_df['price'] = cars_df['price'].replace(regex=True,to_replace=r'\\r''\\n',value=r'').replace(regex=True,to_replace='                                                                            ', value = r'').replace(regex=True,to_replace=',', value = r'').replace(regex=True,to_replace=' ', value = r'')"
   ]
  },
  {
   "cell_type": "code",
   "execution_count": 5,
   "metadata": {},
   "outputs": [
    {
     "data": {
      "text/plain": [
       "0      3270000\n",
       "1      4750000\n",
       "2     20000000\n",
       "3     15200000\n",
       "4     10090000\n",
       "5     13500000\n",
       "6     18000000\n",
       "7     40000000\n",
       "8      9000000\n",
       "9      2250000\n",
       "10     4322000\n",
       "11     1018000\n",
       "12     1578000\n",
       "13     3370000\n",
       "14     1466000\n",
       "15      480400\n",
       "16    14570000\n",
       "17      794000\n",
       "18     7514000\n",
       "19     2026000\n",
       "20     3258000\n",
       "21     5050000\n",
       "22     1018000\n",
       "23      626000\n",
       "24     1690000\n",
       "25     1466000\n",
       "26     2810000\n",
       "27     2362000\n",
       "28     1802000\n",
       "29     3818000\n",
       "Name: price, dtype: object"
      ]
     },
     "execution_count": 5,
     "metadata": {},
     "output_type": "execute_result"
    }
   ],
   "source": [
    "cars_df['price'].head(30)"
   ]
  },
  {
   "cell_type": "code",
   "execution_count": 92,
   "metadata": {},
   "outputs": [],
   "source": [
    "#remove unwanted characters and white spaces in year column\n",
    "cars_df['year'] = cars_df['year'].replace(regex=True,to_replace=r'\\r''\\n',value=r'').replace(regex=True,to_replace=' ', value = r'')#remove unwanted characters and white spaces in price column\n"
   ]
  },
  {
   "cell_type": "code",
   "execution_count": 94,
   "metadata": {},
   "outputs": [],
   "source": [
    "#drop rows without year values\n",
    "cars_df.drop(cars_df.index[list(\n",
    "    map(lambda x: x.startswith('N'), cars_df['year']))], inplace=True)"
   ]
  },
  {
   "cell_type": "code",
   "execution_count": 95,
   "metadata": {},
   "outputs": [
    {
     "data": {
      "text/plain": [
       "0     2005\n",
       "4     2015\n",
       "9     2010\n",
       "11    2012\n",
       "12    2004\n",
       "13    2006\n",
       "14    2002\n",
       "15    2000\n",
       "16    2019\n",
       "17    2000\n",
       "Name: year, dtype: object"
      ]
     },
     "execution_count": 95,
     "metadata": {},
     "output_type": "execute_result"
    }
   ],
   "source": [
    "cars_df['year'].head(10)"
   ]
  },
  {
   "cell_type": "code",
   "execution_count": 102,
   "metadata": {},
   "outputs": [],
   "source": [
    "#remove unwanted characters and white spaces in mileage column\n",
    "cars_df['mileage'] = cars_df['mileage'].replace(regex=True,to_replace=r'\\r''\\n',value=r'').replace(regex=True,to_replace=r',',value=r'').replace(regex=True,to_replace=r' ',value=r'').replace(regex=True,to_replace=r'Km',value=r'')"
   ]
  },
  {
   "cell_type": "code",
   "execution_count": 103,
   "metadata": {},
   "outputs": [
    {
     "data": {
      "text/plain": [
       "0     177341\n",
       "4      93916\n",
       "9     201640\n",
       "11    115599\n",
       "12     98986\n",
       "13    263060\n",
       "14    216399\n",
       "15    204743\n",
       "16     10251\n",
       "17    242189\n",
       "Name: mileage, dtype: object"
      ]
     },
     "execution_count": 103,
     "metadata": {},
     "output_type": "execute_result"
    }
   ],
   "source": [
    "cars_df['mileage'].head(10)"
   ]
  },
  {
   "cell_type": "code",
   "execution_count": null,
   "metadata": {},
   "outputs": [],
   "source": []
  },
  {
   "cell_type": "code",
   "execution_count": null,
   "metadata": {},
   "outputs": [],
   "source": []
  },
  {
   "cell_type": "code",
   "execution_count": 80,
   "metadata": {},
   "outputs": [],
   "source": [
    "cars_df['make']= cars_df['make'].replace(regex=True,to_replace=r'[1-3][0-9]{3}',value=r'')"
   ]
  },
  {
   "cell_type": "code",
   "execution_count": 81,
   "metadata": {},
   "outputs": [
    {
     "data": {
      "text/plain": [
       "0               Ford F-150 \n",
       "1            Toyota Corolla\n",
       "2      Mercedes-Benz GLC300\n",
       "3       Mercedes-Benz ML350\n",
       "4        Mercedes-Benz C300\n",
       "5      Mitsubishi Outlander\n",
       "6               Lexus GX460\n",
       "7      Mercedes Benz GLE450\n",
       "8               Lexus IS250\n",
       "9                   Mazda 3\n",
       "10       Mercedes-Benz C300\n",
       "11            Nissan Almera\n",
       "12             Toyota Camry\n",
       "13              Honda Pilot\n",
       "14             Lexus Es 300\n",
       "15                Mazda Mpv\n",
       "16            Toyota Sienna\n",
       "17            Ford Windstar\n",
       "18             Toyota HiAce\n",
       "19             Lexus Is 250\n",
       "Name: make, dtype: object"
      ]
     },
     "execution_count": 81,
     "metadata": {},
     "output_type": "execute_result"
    }
   ],
   "source": [
    "cars_df['make'].head(20)"
   ]
  },
  {
   "cell_type": "code",
   "execution_count": 56,
   "metadata": {},
   "outputs": [
    {
     "data": {
      "text/plain": [
       "make         203\n",
       "mileage      203\n",
       "year         203\n",
       "condition    203\n",
       "price        203\n",
       "dtype: int64"
      ]
     },
     "execution_count": 56,
     "metadata": {},
     "output_type": "execute_result"
    }
   ],
   "source": [
    "cars_df[list(map(lambda x: x.startswith('N'), cars_df['year']))].count()"
   ]
  },
  {
   "cell_type": "code",
   "execution_count": null,
   "metadata": {},
   "outputs": [],
   "source": []
  },
  {
   "cell_type": "code",
   "execution_count": 83,
   "metadata": {},
   "outputs": [],
   "source": [
    "#for i in cars_df['year']:\n",
    "    # pass the regular expression\n",
    "#    regex = 'a-zA-Z'\n",
    "     # and the string in search() method\n",
    "        \n",
    "#    if re.match(regex, i):\n",
    "#        cars_df.year[i] = cars_df.mileage[\n",
    "    \n",
    "#    else:\n",
    "#        cars_df.year[i] = cars_df.year"
   ]
  },
  {
   "cell_type": "code",
   "execution_count": 82,
   "metadata": {},
   "outputs": [
    {
     "data": {
      "text/plain": [
       "0          2005\n",
       "1     NL-000222\n",
       "2     NL-000162\n",
       "3     NL-000217\n",
       "4          2015\n",
       "5     NL-000218\n",
       "6     NL-000163\n",
       "7     NL-000169\n",
       "8     NL-000168\n",
       "9          2010\n",
       "10    NG-912345\n",
       "11         2012\n",
       "12         2004\n",
       "13         2006\n",
       "14         2002\n",
       "15         2000\n",
       "16         2019\n",
       "17         2000\n",
       "18         2000\n",
       "19         2007\n",
       "Name: year, dtype: object"
      ]
     },
     "execution_count": 82,
     "metadata": {},
     "output_type": "execute_result"
    }
   ],
   "source": [
    "cars_df['year'].head(20)"
   ]
  },
  {
   "cell_type": "code",
   "execution_count": null,
   "metadata": {},
   "outputs": [],
   "source": []
  },
  {
   "cell_type": "code",
   "execution_count": null,
   "metadata": {},
   "outputs": [],
   "source": []
  }
 ],
 "metadata": {
  "kernelspec": {
   "display_name": "Python 3",
   "language": "python",
   "name": "python3"
  },
  "language_info": {
   "codemirror_mode": {
    "name": "ipython",
    "version": 3
   },
   "file_extension": ".py",
   "mimetype": "text/x-python",
   "name": "python",
   "nbconvert_exporter": "python",
   "pygments_lexer": "ipython3",
   "version": "3.7.6"
  }
 },
 "nbformat": 4,
 "nbformat_minor": 4
}
