{
 "cells": [
  {
   "cell_type": "code",
   "execution_count": 46,
   "metadata": {},
   "outputs": [],
   "source": [
    "#import libraries\n",
    "import pandas as pd\n",
    "import numpy as np\n",
    "import re"
   ]
  },
  {
   "cell_type": "code",
   "execution_count": 55,
   "metadata": {},
   "outputs": [],
   "source": [
    "cars_df = pd.read_csv('./webscraping/cars_data.csv')"
   ]
  },
  {
   "cell_type": "code",
   "execution_count": 56,
   "metadata": {},
   "outputs": [],
   "source": [
    "def clean_data():\n",
    "    cars_df.columns = ['make', 'mileage(Km)', 'year', 'condition', 'price(₦)']\n",
    "    for column in cars_df.columns:\n",
    "        if column == 'make':\n",
    "            cars_df[column]= cars_df[column].replace(regex=True,to_replace=r'[1-3][0-9]{3}',value=r'')\n",
    "        elif column == 'mileage(Km)':\n",
    "            #remove unwanted characters and white spaces in mileage column\n",
    "            cars_df['mileage(Km)'] = cars_df['mileage(Km)'].replace(regex=True,to_replace=r'\\r''\\n',value=r'').replace(regex=True,to_replace=r',',value=r'').replace(regex=True,to_replace=r' ',value=r'').replace(regex=True,to_replace=r'Km',value=r'')\n",
    "        elif column == 'year':\n",
    "            #remove unwanted characters and white spaces in year column\n",
    "            cars_df['year'] = cars_df['year'].replace(regex=True,to_replace=r'\\r''\\n',value=r'').replace(regex=True,to_replace=' ', value = r'')\n",
    "            #drop rows without year values\n",
    "            cars_df.drop(cars_df.index[list(\n",
    "                map(lambda x: x.startswith('N'), cars_df['year']))], inplace=True)\n",
    "        elif column == 'price(₦)':\n",
    "            #remove unwanted characters and white spaces in price column\n",
    "            cars_df['price(₦)'] = cars_df['price(₦)'].replace(regex=True,to_replace=r'\\r''\\n',value=r'').replace(regex=True,to_replace='                                                                            ', value = r'').replace(regex=True,to_replace=',', value = r'').replace(regex=True,to_replace=' ', value = r'')\n",
    "            \n",
    "        else:\n",
    "            column"
   ]
  },
  {
   "cell_type": "code",
   "execution_count": 58,
   "metadata": {},
   "outputs": [],
   "source": [
    "clean_data()"
   ]
  },
  {
   "cell_type": "code",
   "execution_count": 59,
   "metadata": {},
   "outputs": [
    {
     "data": {
      "text/html": [
       "<div>\n",
       "<style scoped>\n",
       "    .dataframe tbody tr th:only-of-type {\n",
       "        vertical-align: middle;\n",
       "    }\n",
       "\n",
       "    .dataframe tbody tr th {\n",
       "        vertical-align: top;\n",
       "    }\n",
       "\n",
       "    .dataframe thead th {\n",
       "        text-align: right;\n",
       "    }\n",
       "</style>\n",
       "<table border=\"1\" class=\"dataframe\">\n",
       "  <thead>\n",
       "    <tr style=\"text-align: right;\">\n",
       "      <th></th>\n",
       "      <th>make</th>\n",
       "      <th>mileage(Km)</th>\n",
       "      <th>year</th>\n",
       "      <th>condition</th>\n",
       "      <th>price(₦)</th>\n",
       "    </tr>\n",
       "  </thead>\n",
       "  <tbody>\n",
       "    <tr>\n",
       "      <th>0</th>\n",
       "      <td>Ford F-150</td>\n",
       "      <td>177341</td>\n",
       "      <td>2005</td>\n",
       "      <td>Foreign Used</td>\n",
       "      <td>3270000</td>\n",
       "    </tr>\n",
       "    <tr>\n",
       "      <th>4</th>\n",
       "      <td>Mercedes-Benz C300</td>\n",
       "      <td>93916</td>\n",
       "      <td>2015</td>\n",
       "      <td>Nigerian Used</td>\n",
       "      <td>10090000</td>\n",
       "    </tr>\n",
       "    <tr>\n",
       "      <th>9</th>\n",
       "      <td>Mazda 3</td>\n",
       "      <td>201640</td>\n",
       "      <td>2010</td>\n",
       "      <td>Foreign Used</td>\n",
       "      <td>2250000</td>\n",
       "    </tr>\n",
       "    <tr>\n",
       "      <th>11</th>\n",
       "      <td>Nissan Almera</td>\n",
       "      <td>115599</td>\n",
       "      <td>2012</td>\n",
       "      <td>Nigerian Used</td>\n",
       "      <td>1018000</td>\n",
       "    </tr>\n",
       "    <tr>\n",
       "      <th>12</th>\n",
       "      <td>Toyota Camry</td>\n",
       "      <td>98986</td>\n",
       "      <td>2004</td>\n",
       "      <td>Nigerian Used</td>\n",
       "      <td>1578000</td>\n",
       "    </tr>\n",
       "  </tbody>\n",
       "</table>\n",
       "</div>"
      ],
      "text/plain": [
       "                   make mileage(Km)  year         condition  price(₦)\n",
       "0           Ford F-150       177341  2005    Foreign Used     3270000\n",
       "4    Mercedes-Benz C300       93916  2015   Nigerian Used    10090000\n",
       "9               Mazda 3      201640  2010    Foreign Used     2250000\n",
       "11        Nissan Almera      115599  2012   Nigerian Used     1018000\n",
       "12         Toyota Camry       98986  2004   Nigerian Used     1578000"
      ]
     },
     "execution_count": 59,
     "metadata": {},
     "output_type": "execute_result"
    }
   ],
   "source": [
    "cars_df.head()"
   ]
  },
  {
   "cell_type": "code",
   "execution_count": null,
   "metadata": {},
   "outputs": [],
   "source": []
  }
 ],
 "metadata": {
  "kernelspec": {
   "display_name": "Python 3",
   "language": "python",
   "name": "python3"
  },
  "language_info": {
   "codemirror_mode": {
    "name": "ipython",
    "version": 3
   },
   "file_extension": ".py",
   "mimetype": "text/x-python",
   "name": "python",
   "nbconvert_exporter": "python",
   "pygments_lexer": "ipython3",
   "version": "3.7.6"
  }
 },
 "nbformat": 4,
 "nbformat_minor": 4
}
