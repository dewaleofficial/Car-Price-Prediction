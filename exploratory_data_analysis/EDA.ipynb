{
 "cells": [
  {
   "cell_type": "markdown",
   "metadata": {},
   "source": [
    "### IMPORT ALL PACKAGES"
   ]
  },
  {
   "cell_type": "code",
   "execution_count": 1,
   "metadata": {},
   "outputs": [],
   "source": [
    "import pandas as pd\n",
    "import numpy as np\n",
    "import seaborn as sns\n",
    "from matplotlib import pyplot as plt\n",
    "%matplotlib inline"
   ]
  },
  {
   "cell_type": "code",
   "execution_count": 2,
   "metadata": {},
   "outputs": [],
   "source": [
    "#LOAD DATASET INTO WORKSHEET\n",
    "cars_df = pd.read_csv('final_cars_data.csv')"
   ]
  },
  {
   "cell_type": "code",
   "execution_count": 3,
   "metadata": {},
   "outputs": [
    {
     "data": {
      "text/html": [
       "<div>\n",
       "<style scoped>\n",
       "    .dataframe tbody tr th:only-of-type {\n",
       "        vertical-align: middle;\n",
       "    }\n",
       "\n",
       "    .dataframe tbody tr th {\n",
       "        vertical-align: top;\n",
       "    }\n",
       "\n",
       "    .dataframe thead th {\n",
       "        text-align: right;\n",
       "    }\n",
       "</style>\n",
       "<table border=\"1\" class=\"dataframe\">\n",
       "  <thead>\n",
       "    <tr style=\"text-align: right;\">\n",
       "      <th></th>\n",
       "      <th>car_name</th>\n",
       "      <th>model</th>\n",
       "      <th>Mileage</th>\n",
       "      <th>Year</th>\n",
       "      <th>Condition</th>\n",
       "      <th>Price</th>\n",
       "    </tr>\n",
       "  </thead>\n",
       "  <tbody>\n",
       "    <tr>\n",
       "      <th>10204</th>\n",
       "      <td>Seat</td>\n",
       "      <td>Cordoba</td>\n",
       "      <td>279649.0</td>\n",
       "      <td>1999</td>\n",
       "      <td>Foreign Used</td>\n",
       "      <td>1275000</td>\n",
       "    </tr>\n",
       "    <tr>\n",
       "      <th>10205</th>\n",
       "      <td>Cadillac</td>\n",
       "      <td>Escalade</td>\n",
       "      <td>21308.0</td>\n",
       "      <td>2011</td>\n",
       "      <td>Nigerian Used</td>\n",
       "      <td>4520000</td>\n",
       "    </tr>\n",
       "    <tr>\n",
       "      <th>10206</th>\n",
       "      <td>Toyota</td>\n",
       "      <td>Land</td>\n",
       "      <td>48502.0</td>\n",
       "      <td>2010</td>\n",
       "      <td>Nigerian Used</td>\n",
       "      <td>9210000</td>\n",
       "    </tr>\n",
       "    <tr>\n",
       "      <th>10207</th>\n",
       "      <td>Mercedes-Benz</td>\n",
       "      <td>Slk350</td>\n",
       "      <td>80497.0</td>\n",
       "      <td>2005</td>\n",
       "      <td>Nigerian Used</td>\n",
       "      <td>3001250</td>\n",
       "    </tr>\n",
       "    <tr>\n",
       "      <th>10208</th>\n",
       "      <td>Mitsubishi</td>\n",
       "      <td>Pajero</td>\n",
       "      <td>124776.0</td>\n",
       "      <td>2012</td>\n",
       "      <td>Nigerian Used</td>\n",
       "      <td>3957500</td>\n",
       "    </tr>\n",
       "  </tbody>\n",
       "</table>\n",
       "</div>"
      ],
      "text/plain": [
       "            car_name     model   Mileage  Year      Condition    Price\n",
       "10204           Seat   Cordoba  279649.0  1999   Foreign Used  1275000\n",
       "10205       Cadillac  Escalade   21308.0  2011  Nigerian Used  4520000\n",
       "10206         Toyota      Land   48502.0  2010  Nigerian Used  9210000\n",
       "10207  Mercedes-Benz    Slk350   80497.0  2005  Nigerian Used  3001250\n",
       "10208     Mitsubishi    Pajero  124776.0  2012  Nigerian Used  3957500"
      ]
     },
     "execution_count": 3,
     "metadata": {},
     "output_type": "execute_result"
    }
   ],
   "source": [
    "#DISPLAY LAST 5 VALUES OF THE DATASET\n",
    "cars_df.tail()"
   ]
  },
  {
   "cell_type": "code",
   "execution_count": 4,
   "metadata": {},
   "outputs": [],
   "source": [
    "df = pd.DataFrame(cars_df)"
   ]
  },
  {
   "cell_type": "code",
   "execution_count": 5,
   "metadata": {},
   "outputs": [
    {
     "data": {
      "text/plain": [
       "(10209, 6)"
      ]
     },
     "execution_count": 5,
     "metadata": {},
     "output_type": "execute_result"
    }
   ],
   "source": [
    "#SHAPE OF DATASET\n",
    "df.shape"
   ]
  },
  {
   "cell_type": "code",
   "execution_count": 6,
   "metadata": {},
   "outputs": [
    {
     "data": {
      "text/plain": [
       "Index(['car_name', 'model', 'Mileage', 'Year', 'Condition', 'Price'], dtype='object')"
      ]
     },
     "execution_count": 6,
     "metadata": {},
     "output_type": "execute_result"
    }
   ],
   "source": [
    "#DSPLAY ALL COLUMNS\n",
    "df.columns"
   ]
  },
  {
   "cell_type": "code",
   "execution_count": 7,
   "metadata": {},
   "outputs": [
    {
     "data": {
      "text/html": [
       "<div>\n",
       "<style scoped>\n",
       "    .dataframe tbody tr th:only-of-type {\n",
       "        vertical-align: middle;\n",
       "    }\n",
       "\n",
       "    .dataframe tbody tr th {\n",
       "        vertical-align: top;\n",
       "    }\n",
       "\n",
       "    .dataframe thead th {\n",
       "        text-align: right;\n",
       "    }\n",
       "</style>\n",
       "<table border=\"1\" class=\"dataframe\">\n",
       "  <thead>\n",
       "    <tr style=\"text-align: right;\">\n",
       "      <th></th>\n",
       "      <th>car_name</th>\n",
       "      <th>model</th>\n",
       "      <th>Mileage</th>\n",
       "      <th>Year</th>\n",
       "      <th>Condition</th>\n",
       "      <th>Price</th>\n",
       "    </tr>\n",
       "  </thead>\n",
       "  <tbody>\n",
       "    <tr>\n",
       "      <th>0</th>\n",
       "      <td>Lexus</td>\n",
       "      <td>LX</td>\n",
       "      <td>21204.0</td>\n",
       "      <td>2018</td>\n",
       "      <td>Foreign Used</td>\n",
       "      <td>50015000</td>\n",
       "    </tr>\n",
       "    <tr>\n",
       "      <th>1</th>\n",
       "      <td>Toyota</td>\n",
       "      <td>Camry</td>\n",
       "      <td>140309.0</td>\n",
       "      <td>2013</td>\n",
       "      <td>Foreign Used</td>\n",
       "      <td>5015000</td>\n",
       "    </tr>\n",
       "    <tr>\n",
       "      <th>2</th>\n",
       "      <td>Toyota</td>\n",
       "      <td>Venza</td>\n",
       "      <td>172709.0</td>\n",
       "      <td>2013</td>\n",
       "      <td>Foreign Used</td>\n",
       "      <td>7115000</td>\n",
       "    </tr>\n",
       "    <tr>\n",
       "      <th>3</th>\n",
       "      <td>Mercedes-Benz</td>\n",
       "      <td>C</td>\n",
       "      <td>114936.0</td>\n",
       "      <td>2010</td>\n",
       "      <td>Foreign Used</td>\n",
       "      <td>4815000</td>\n",
       "    </tr>\n",
       "    <tr>\n",
       "      <th>4</th>\n",
       "      <td>Toyota</td>\n",
       "      <td>Lexus</td>\n",
       "      <td>123938.5</td>\n",
       "      <td>2012</td>\n",
       "      <td>Foreign Used</td>\n",
       "      <td>8515000</td>\n",
       "    </tr>\n",
       "  </tbody>\n",
       "</table>\n",
       "</div>"
      ],
      "text/plain": [
       "        car_name  model   Mileage  Year     Condition     Price\n",
       "0          Lexus     LX   21204.0  2018  Foreign Used  50015000\n",
       "1         Toyota  Camry  140309.0  2013  Foreign Used   5015000\n",
       "2         Toyota  Venza  172709.0  2013  Foreign Used   7115000\n",
       "3  Mercedes-Benz      C  114936.0  2010  Foreign Used   4815000\n",
       "4         Toyota  Lexus  123938.5  2012  Foreign Used   8515000"
      ]
     },
     "execution_count": 7,
     "metadata": {},
     "output_type": "execute_result"
    }
   ],
   "source": [
    "#DISPLAY THE TOP 5 ROWS IN THE DATASET\n",
    "df.head()"
   ]
  },
  {
   "cell_type": "code",
   "execution_count": 8,
   "metadata": {},
   "outputs": [
    {
     "name": "stdout",
     "output_type": "stream",
     "text": [
      "<class 'pandas.core.frame.DataFrame'>\n",
      "RangeIndex: 10209 entries, 0 to 10208\n",
      "Data columns (total 6 columns):\n",
      " #   Column     Non-Null Count  Dtype  \n",
      "---  ------     --------------  -----  \n",
      " 0   car_name   10209 non-null  object \n",
      " 1   model      10207 non-null  object \n",
      " 2   Mileage    10209 non-null  float64\n",
      " 3   Year       10209 non-null  int64  \n",
      " 4   Condition  10209 non-null  object \n",
      " 5   Price      10209 non-null  int64  \n",
      "dtypes: float64(1), int64(2), object(3)\n",
      "memory usage: 478.7+ KB\n"
     ]
    }
   ],
   "source": [
    "#INFORMATIONS ABOUT THE DAATASET\n",
    "df.info()"
   ]
  },
  {
   "cell_type": "markdown",
   "metadata": {},
   "source": [
    ">> FROM THE ABOVE, WE NOTICED TWO ROWS HAD MISSING MODELS SO WE CAN DROP THOSE ROWS"
   ]
  },
  {
   "cell_type": "code",
   "execution_count": 9,
   "metadata": {},
   "outputs": [],
   "source": [
    "df.dropna(subset=['model'], inplace=True)"
   ]
  },
  {
   "cell_type": "code",
   "execution_count": 10,
   "metadata": {},
   "outputs": [
    {
     "data": {
      "text/plain": [
       "car_name     0\n",
       "model        0\n",
       "Mileage      0\n",
       "Year         0\n",
       "Condition    0\n",
       "Price        0\n",
       "dtype: int64"
      ]
     },
     "execution_count": 10,
     "metadata": {},
     "output_type": "execute_result"
    }
   ],
   "source": [
    "#check for any other null values\n",
    "np.sum(df.isnull())"
   ]
  },
  {
   "cell_type": "code",
   "execution_count": 11,
   "metadata": {},
   "outputs": [
    {
     "data": {
      "text/plain": [
       "Foreign Used     6758\n",
       "Nigerian Used    3181\n",
       "Locally Used      244\n",
       "New                24\n",
       "Name: Condition, dtype: int64"
      ]
     },
     "execution_count": 11,
     "metadata": {},
     "output_type": "execute_result"
    }
   ],
   "source": [
    "#CHECK THE UNIQUE CONDITIONS IN THE DATASET\n",
    "df['Condition'].value_counts()"
   ]
  },
  {
   "cell_type": "code",
   "execution_count": 12,
   "metadata": {},
   "outputs": [
    {
     "data": {
      "text/plain": [
       "Toyota           4410\n",
       "Lexus            1927\n",
       "Mercedes-Benz    1143\n",
       "Honda             448\n",
       "Hyundai           294\n",
       "                 ... \n",
       "Range               1\n",
       "Foton               1\n",
       "RANGE               1\n",
       "range               1\n",
       "Seat                1\n",
       "Name: car_name, Length: 67, dtype: int64"
      ]
     },
     "execution_count": 12,
     "metadata": {},
     "output_type": "execute_result"
    }
   ],
   "source": [
    "#CHECK THE UNIQUE CAR NAMES IN THE DATASET\n",
    "df['car_name'].value_counts()"
   ]
  },
  {
   "cell_type": "markdown",
   "metadata": {},
   "source": [
    ">> FORM THE ABOVE, WE DISCOVERED THAT SOME CAR NAMES ARE CASE SENSITIVE IR (RANGE, Range, range), \n",
    "> So therefore we will convert all car names to lower case"
   ]
  },
  {
   "cell_type": "code",
   "execution_count": 13,
   "metadata": {},
   "outputs": [],
   "source": [
    "df[\"car_name\"] = df[\"car_name\"].str.lower() "
   ]
  },
  {
   "cell_type": "code",
   "execution_count": 14,
   "metadata": {},
   "outputs": [
    {
     "data": {
      "text/plain": [
       "toyota           4415\n",
       "lexus            1928\n",
       "mercedes-benz    1143\n",
       "honda             449\n",
       "hyundai           294\n",
       "nissan            243\n",
       "kia               242\n",
       "ford              218\n",
       "acura             201\n",
       "audi              147\n",
       "pontiac           137\n",
       "volkswagen        113\n",
       "land               84\n",
       "peugeot            82\n",
       "mazda              68\n",
       "bmw                65\n",
       "mitsubishi         63\n",
       "infiniti           47\n",
       "chevrolet          35\n",
       "volvo              24\n",
       "jeep               23\n",
       "dodge              23\n",
       "mercedes           19\n",
       "suzuki             17\n",
       "chrysler           13\n",
       "skoda               9\n",
       "renault             8\n",
       "opel                7\n",
       "subaru              7\n",
       "cadillac            6\n",
       "jaguar              6\n",
       "gac                 6\n",
       "lincoln             6\n",
       "saturn              5\n",
       "gmc                 4\n",
       "porsche             4\n",
       "mg                  4\n",
       "ashok               4\n",
       "ssangyong           3\n",
       "range               3\n",
       "buick               3\n",
       "mini                3\n",
       "isuzu               3\n",
       "fiat                3\n",
       "innoson             2\n",
       "mercury             2\n",
       "landrover           2\n",
       "bentley             2\n",
       "jmc                 1\n",
       "rover               1\n",
       "citroen             1\n",
       "geely               1\n",
       "foton               1\n",
       "daihatsu            1\n",
       "hummer              1\n",
       "stallion            1\n",
       "tata                1\n",
       "dacia               1\n",
       "brilliance          1\n",
       "seat                1\n",
       "Name: car_name, dtype: int64"
      ]
     },
     "execution_count": 14,
     "metadata": {},
     "output_type": "execute_result"
    }
   ],
   "source": [
    "#CHECK THE UNIQUE CAR NAMES IN THE DATASET\n",
    "df['car_name'].value_counts()"
   ]
  },
  {
   "cell_type": "code",
   "execution_count": 15,
   "metadata": {},
   "outputs": [],
   "source": [
    "counts = df['car_name'].value_counts()\n",
    "\n",
    "df = df.loc[df['car_name'].isin(counts.index[counts > 10])]"
   ]
  },
  {
   "cell_type": "code",
   "execution_count": 22,
   "metadata": {},
   "outputs": [
    {
     "data": {
      "text/plain": [
       "toyota           4414\n",
       "lexus            1926\n",
       "mercedes-benz    1143\n",
       "honda             449\n",
       "hyundai           294\n",
       "nissan            243\n",
       "kia               242\n",
       "ford              218\n",
       "acura             201\n",
       "audi              147\n",
       "pontiac           137\n",
       "volkswagen        113\n",
       "land               83\n",
       "peugeot            82\n",
       "mazda              68\n",
       "bmw                65\n",
       "mitsubishi         63\n",
       "infiniti           47\n",
       "chevrolet          35\n",
       "volvo              24\n",
       "jeep               23\n",
       "dodge              23\n",
       "mercedes           18\n",
       "suzuki             16\n",
       "chrysler           13\n",
       "Name: car_name, dtype: int64"
      ]
     },
     "execution_count": 22,
     "metadata": {},
     "output_type": "execute_result"
    }
   ],
   "source": [
    "df['car_name'].value_counts()"
   ]
  },
  {
   "cell_type": "code",
   "execution_count": 16,
   "metadata": {},
   "outputs": [
    {
     "data": {
      "text/html": [
       "<div>\n",
       "<style scoped>\n",
       "    .dataframe tbody tr th:only-of-type {\n",
       "        vertical-align: middle;\n",
       "    }\n",
       "\n",
       "    .dataframe tbody tr th {\n",
       "        vertical-align: top;\n",
       "    }\n",
       "\n",
       "    .dataframe thead th {\n",
       "        text-align: right;\n",
       "    }\n",
       "</style>\n",
       "<table border=\"1\" class=\"dataframe\">\n",
       "  <thead>\n",
       "    <tr style=\"text-align: right;\">\n",
       "      <th></th>\n",
       "      <th>car_name</th>\n",
       "      <th>model</th>\n",
       "      <th>Mileage</th>\n",
       "      <th>Year</th>\n",
       "      <th>Condition</th>\n",
       "      <th>Price</th>\n",
       "    </tr>\n",
       "  </thead>\n",
       "  <tbody>\n",
       "    <tr>\n",
       "      <th>0</th>\n",
       "      <td>lexus</td>\n",
       "      <td>LX</td>\n",
       "      <td>21204.0</td>\n",
       "      <td>2018</td>\n",
       "      <td>Foreign Used</td>\n",
       "      <td>50015000</td>\n",
       "    </tr>\n",
       "    <tr>\n",
       "      <th>1</th>\n",
       "      <td>toyota</td>\n",
       "      <td>Camry</td>\n",
       "      <td>140309.0</td>\n",
       "      <td>2013</td>\n",
       "      <td>Foreign Used</td>\n",
       "      <td>5015000</td>\n",
       "    </tr>\n",
       "    <tr>\n",
       "      <th>2</th>\n",
       "      <td>toyota</td>\n",
       "      <td>Venza</td>\n",
       "      <td>172709.0</td>\n",
       "      <td>2013</td>\n",
       "      <td>Foreign Used</td>\n",
       "      <td>7115000</td>\n",
       "    </tr>\n",
       "    <tr>\n",
       "      <th>3</th>\n",
       "      <td>mercedes-benz</td>\n",
       "      <td>C</td>\n",
       "      <td>114936.0</td>\n",
       "      <td>2010</td>\n",
       "      <td>Foreign Used</td>\n",
       "      <td>4815000</td>\n",
       "    </tr>\n",
       "    <tr>\n",
       "      <th>4</th>\n",
       "      <td>toyota</td>\n",
       "      <td>Lexus</td>\n",
       "      <td>123938.5</td>\n",
       "      <td>2012</td>\n",
       "      <td>Foreign Used</td>\n",
       "      <td>8515000</td>\n",
       "    </tr>\n",
       "  </tbody>\n",
       "</table>\n",
       "</div>"
      ],
      "text/plain": [
       "        car_name  model   Mileage  Year     Condition     Price\n",
       "0          lexus     LX   21204.0  2018  Foreign Used  50015000\n",
       "1         toyota  Camry  140309.0  2013  Foreign Used   5015000\n",
       "2         toyota  Venza  172709.0  2013  Foreign Used   7115000\n",
       "3  mercedes-benz      C  114936.0  2010  Foreign Used   4815000\n",
       "4         toyota  Lexus  123938.5  2012  Foreign Used   8515000"
      ]
     },
     "execution_count": 16,
     "metadata": {},
     "output_type": "execute_result"
    }
   ],
   "source": [
    "df.head()"
   ]
  },
  {
   "cell_type": "code",
   "execution_count": 18,
   "metadata": {},
   "outputs": [
    {
     "data": {
      "text/plain": [
       "(10093, 6)"
      ]
     },
     "execution_count": 18,
     "metadata": {},
     "output_type": "execute_result"
    }
   ],
   "source": [
    "df.shape"
   ]
  },
  {
   "cell_type": "code",
   "execution_count": 19,
   "metadata": {},
   "outputs": [
    {
     "data": {
      "text/plain": [
       "2013    1403\n",
       "2012    1200\n",
       "2010     964\n",
       "2008     757\n",
       "2011     721\n",
       "2007     710\n",
       "2006     619\n",
       "2009     516\n",
       "2015     467\n",
       "2016     425\n",
       "2004     414\n",
       "2005     406\n",
       "2014     276\n",
       "2003     259\n",
       "2002     192\n",
       "2017     164\n",
       "2018     154\n",
       "2001     117\n",
       "2000      97\n",
       "1999      81\n",
       "1998      43\n",
       "2019      26\n",
       "1997      25\n",
       "2020      11\n",
       "1996      11\n",
       "1994      10\n",
       "1995       9\n",
       "0          6\n",
       "1990       5\n",
       "1993       4\n",
       "1991       1\n",
       "Name: Year, dtype: int64"
      ]
     },
     "execution_count": 19,
     "metadata": {},
     "output_type": "execute_result"
    }
   ],
   "source": [
    "# show distinct years \n",
    "df['Year'].value_counts()"
   ]
  },
  {
   "cell_type": "markdown",
   "metadata": {},
   "source": [
    ">> FROM THE ABOVE, WE NOTICED SOME YEARS ARE 0 AND IT IS IMPOSSIBLE TO HAVE A YEAR AS ZERO. WE WOULD BE DROPPING THESE ROWS TOO"
   ]
  },
  {
   "cell_type": "code",
   "execution_count": 20,
   "metadata": {},
   "outputs": [],
   "source": [
    "df.drop(df[df['Year'] == 0].index, axis = 0, inplace = True)"
   ]
  },
  {
   "cell_type": "code",
   "execution_count": 23,
   "metadata": {},
   "outputs": [
    {
     "data": {
      "text/html": [
       "<div>\n",
       "<style scoped>\n",
       "    .dataframe tbody tr th:only-of-type {\n",
       "        vertical-align: middle;\n",
       "    }\n",
       "\n",
       "    .dataframe tbody tr th {\n",
       "        vertical-align: top;\n",
       "    }\n",
       "\n",
       "    .dataframe thead th {\n",
       "        text-align: right;\n",
       "    }\n",
       "</style>\n",
       "<table border=\"1\" class=\"dataframe\">\n",
       "  <thead>\n",
       "    <tr style=\"text-align: right;\">\n",
       "      <th></th>\n",
       "      <th>car_name</th>\n",
       "      <th>model</th>\n",
       "      <th>Mileage</th>\n",
       "      <th>Year</th>\n",
       "      <th>Condition</th>\n",
       "      <th>Price</th>\n",
       "    </tr>\n",
       "  </thead>\n",
       "  <tbody>\n",
       "    <tr>\n",
       "      <th>0</th>\n",
       "      <td>lexus</td>\n",
       "      <td>LX</td>\n",
       "      <td>21204.0</td>\n",
       "      <td>2018</td>\n",
       "      <td>Foreign Used</td>\n",
       "      <td>50015000</td>\n",
       "    </tr>\n",
       "    <tr>\n",
       "      <th>1</th>\n",
       "      <td>toyota</td>\n",
       "      <td>Camry</td>\n",
       "      <td>140309.0</td>\n",
       "      <td>2013</td>\n",
       "      <td>Foreign Used</td>\n",
       "      <td>5015000</td>\n",
       "    </tr>\n",
       "    <tr>\n",
       "      <th>2</th>\n",
       "      <td>toyota</td>\n",
       "      <td>Venza</td>\n",
       "      <td>172709.0</td>\n",
       "      <td>2013</td>\n",
       "      <td>Foreign Used</td>\n",
       "      <td>7115000</td>\n",
       "    </tr>\n",
       "    <tr>\n",
       "      <th>3</th>\n",
       "      <td>mercedes-benz</td>\n",
       "      <td>C</td>\n",
       "      <td>114936.0</td>\n",
       "      <td>2010</td>\n",
       "      <td>Foreign Used</td>\n",
       "      <td>4815000</td>\n",
       "    </tr>\n",
       "    <tr>\n",
       "      <th>4</th>\n",
       "      <td>toyota</td>\n",
       "      <td>Lexus</td>\n",
       "      <td>123938.5</td>\n",
       "      <td>2012</td>\n",
       "      <td>Foreign Used</td>\n",
       "      <td>8515000</td>\n",
       "    </tr>\n",
       "  </tbody>\n",
       "</table>\n",
       "</div>"
      ],
      "text/plain": [
       "        car_name  model   Mileage  Year     Condition     Price\n",
       "0          lexus     LX   21204.0  2018  Foreign Used  50015000\n",
       "1         toyota  Camry  140309.0  2013  Foreign Used   5015000\n",
       "2         toyota  Venza  172709.0  2013  Foreign Used   7115000\n",
       "3  mercedes-benz      C  114936.0  2010  Foreign Used   4815000\n",
       "4         toyota  Lexus  123938.5  2012  Foreign Used   8515000"
      ]
     },
     "execution_count": 23,
     "metadata": {},
     "output_type": "execute_result"
    }
   ],
   "source": [
    "df.head()"
   ]
  },
  {
   "cell_type": "code",
   "execution_count": 24,
   "metadata": {},
   "outputs": [
    {
     "data": {
      "text/html": [
       "<div>\n",
       "<style scoped>\n",
       "    .dataframe tbody tr th:only-of-type {\n",
       "        vertical-align: middle;\n",
       "    }\n",
       "\n",
       "    .dataframe tbody tr th {\n",
       "        vertical-align: top;\n",
       "    }\n",
       "\n",
       "    .dataframe thead th {\n",
       "        text-align: right;\n",
       "    }\n",
       "</style>\n",
       "<table border=\"1\" class=\"dataframe\">\n",
       "  <thead>\n",
       "    <tr style=\"text-align: right;\">\n",
       "      <th></th>\n",
       "      <th>car_name</th>\n",
       "      <th>model</th>\n",
       "      <th>Mileage</th>\n",
       "      <th>Year</th>\n",
       "      <th>Condition</th>\n",
       "      <th>Price</th>\n",
       "    </tr>\n",
       "  </thead>\n",
       "  <tbody>\n",
       "  </tbody>\n",
       "</table>\n",
       "</div>"
      ],
      "text/plain": [
       "Empty DataFrame\n",
       "Columns: [car_name, model, Mileage, Year, Condition, Price]\n",
       "Index: []"
      ]
     },
     "execution_count": 24,
     "metadata": {},
     "output_type": "execute_result"
    }
   ],
   "source": [
    "df.query('Year == 0')"
   ]
  },
  {
   "cell_type": "code",
   "execution_count": 25,
   "metadata": {},
   "outputs": [],
   "source": [
    "#df.drop(df.query('Year == 0').index, axis=0)"
   ]
  },
  {
   "cell_type": "code",
   "execution_count": 26,
   "metadata": {},
   "outputs": [],
   "source": [
    "#np.sum(df.duplicated())"
   ]
  },
  {
   "cell_type": "code",
   "execution_count": 27,
   "metadata": {},
   "outputs": [],
   "source": [
    "# dropping duplicate values\n",
    "#df.drop_duplicates(keep=False,inplace=True)"
   ]
  },
  {
   "cell_type": "code",
   "execution_count": 28,
   "metadata": {},
   "outputs": [
    {
     "name": "stderr",
     "output_type": "stream",
     "text": [
      "C:\\Users\\HPSPEC~1\\AppData\\Local\\Temp/ipykernel_13956/94807579.py:2: SettingWithCopyWarning: \n",
      "A value is trying to be set on a copy of a slice from a DataFrame\n",
      "\n",
      "See the caveats in the documentation: https://pandas.pydata.org/pandas-docs/stable/user_guide/indexing.html#returning-a-view-versus-a-copy\n",
      "  df['Condition'][df['Condition'] == 'Locally Used']  = 'Nigerian Used'\n"
     ]
    }
   ],
   "source": [
    "#convert the locally used to nigerian used as local in this context refers to Nigeria\n",
    "df['Condition'][df['Condition'] == 'Locally Used']  = 'Nigerian Used'"
   ]
  },
  {
   "cell_type": "code",
   "execution_count": 29,
   "metadata": {},
   "outputs": [
    {
     "data": {
      "text/plain": [
       "Foreign Used     6739\n",
       "Nigerian Used    3331\n",
       "New                17\n",
       "Name: Condition, dtype: int64"
      ]
     },
     "execution_count": 29,
     "metadata": {},
     "output_type": "execute_result"
    }
   ],
   "source": [
    "#recount the conditions\n",
    "df['Condition'].value_counts()"
   ]
  },
  {
   "cell_type": "markdown",
   "metadata": {},
   "source": [
    "### NUMERICAL AND CATEGORICAL DATA"
   ]
  },
  {
   "cell_type": "code",
   "execution_count": 30,
   "metadata": {},
   "outputs": [],
   "source": [
    "#Assign all numerical values to variable Numerical_data\n",
    "Numerical_data = df.select_dtypes(include=[np.number])"
   ]
  },
  {
   "cell_type": "code",
   "execution_count": 31,
   "metadata": {},
   "outputs": [
    {
     "data": {
      "text/html": [
       "<div>\n",
       "<style scoped>\n",
       "    .dataframe tbody tr th:only-of-type {\n",
       "        vertical-align: middle;\n",
       "    }\n",
       "\n",
       "    .dataframe tbody tr th {\n",
       "        vertical-align: top;\n",
       "    }\n",
       "\n",
       "    .dataframe thead th {\n",
       "        text-align: right;\n",
       "    }\n",
       "</style>\n",
       "<table border=\"1\" class=\"dataframe\">\n",
       "  <thead>\n",
       "    <tr style=\"text-align: right;\">\n",
       "      <th></th>\n",
       "      <th>Mileage</th>\n",
       "      <th>Year</th>\n",
       "      <th>Price</th>\n",
       "    </tr>\n",
       "  </thead>\n",
       "  <tbody>\n",
       "    <tr>\n",
       "      <th>0</th>\n",
       "      <td>21204.0</td>\n",
       "      <td>2018</td>\n",
       "      <td>50015000</td>\n",
       "    </tr>\n",
       "    <tr>\n",
       "      <th>1</th>\n",
       "      <td>140309.0</td>\n",
       "      <td>2013</td>\n",
       "      <td>5015000</td>\n",
       "    </tr>\n",
       "    <tr>\n",
       "      <th>2</th>\n",
       "      <td>172709.0</td>\n",
       "      <td>2013</td>\n",
       "      <td>7115000</td>\n",
       "    </tr>\n",
       "    <tr>\n",
       "      <th>3</th>\n",
       "      <td>114936.0</td>\n",
       "      <td>2010</td>\n",
       "      <td>4815000</td>\n",
       "    </tr>\n",
       "    <tr>\n",
       "      <th>4</th>\n",
       "      <td>123938.5</td>\n",
       "      <td>2012</td>\n",
       "      <td>8515000</td>\n",
       "    </tr>\n",
       "  </tbody>\n",
       "</table>\n",
       "</div>"
      ],
      "text/plain": [
       "    Mileage  Year     Price\n",
       "0   21204.0  2018  50015000\n",
       "1  140309.0  2013   5015000\n",
       "2  172709.0  2013   7115000\n",
       "3  114936.0  2010   4815000\n",
       "4  123938.5  2012   8515000"
      ]
     },
     "execution_count": 31,
     "metadata": {},
     "output_type": "execute_result"
    }
   ],
   "source": [
    "Numerical_data.head()"
   ]
  },
  {
   "cell_type": "code",
   "execution_count": 32,
   "metadata": {},
   "outputs": [],
   "source": [
    "#Assign all categorical values to variable categorical_data\n",
    "categorical_data = df.select_dtypes(exclude=[np.number])"
   ]
  },
  {
   "cell_type": "code",
   "execution_count": 33,
   "metadata": {},
   "outputs": [
    {
     "data": {
      "text/html": [
       "<div>\n",
       "<style scoped>\n",
       "    .dataframe tbody tr th:only-of-type {\n",
       "        vertical-align: middle;\n",
       "    }\n",
       "\n",
       "    .dataframe tbody tr th {\n",
       "        vertical-align: top;\n",
       "    }\n",
       "\n",
       "    .dataframe thead th {\n",
       "        text-align: right;\n",
       "    }\n",
       "</style>\n",
       "<table border=\"1\" class=\"dataframe\">\n",
       "  <thead>\n",
       "    <tr style=\"text-align: right;\">\n",
       "      <th></th>\n",
       "      <th>car_name</th>\n",
       "      <th>model</th>\n",
       "      <th>Condition</th>\n",
       "    </tr>\n",
       "  </thead>\n",
       "  <tbody>\n",
       "    <tr>\n",
       "      <th>0</th>\n",
       "      <td>lexus</td>\n",
       "      <td>LX</td>\n",
       "      <td>Foreign Used</td>\n",
       "    </tr>\n",
       "    <tr>\n",
       "      <th>1</th>\n",
       "      <td>toyota</td>\n",
       "      <td>Camry</td>\n",
       "      <td>Foreign Used</td>\n",
       "    </tr>\n",
       "    <tr>\n",
       "      <th>2</th>\n",
       "      <td>toyota</td>\n",
       "      <td>Venza</td>\n",
       "      <td>Foreign Used</td>\n",
       "    </tr>\n",
       "    <tr>\n",
       "      <th>3</th>\n",
       "      <td>mercedes-benz</td>\n",
       "      <td>C</td>\n",
       "      <td>Foreign Used</td>\n",
       "    </tr>\n",
       "    <tr>\n",
       "      <th>4</th>\n",
       "      <td>toyota</td>\n",
       "      <td>Lexus</td>\n",
       "      <td>Foreign Used</td>\n",
       "    </tr>\n",
       "  </tbody>\n",
       "</table>\n",
       "</div>"
      ],
      "text/plain": [
       "        car_name  model     Condition\n",
       "0          lexus     LX  Foreign Used\n",
       "1         toyota  Camry  Foreign Used\n",
       "2         toyota  Venza  Foreign Used\n",
       "3  mercedes-benz      C  Foreign Used\n",
       "4         toyota  Lexus  Foreign Used"
      ]
     },
     "execution_count": 33,
     "metadata": {},
     "output_type": "execute_result"
    }
   ],
   "source": [
    "categorical_data.head()"
   ]
  },
  {
   "cell_type": "code",
   "execution_count": 34,
   "metadata": {},
   "outputs": [
    {
     "data": {
      "text/html": [
       "<div>\n",
       "<style scoped>\n",
       "    .dataframe tbody tr th:only-of-type {\n",
       "        vertical-align: middle;\n",
       "    }\n",
       "\n",
       "    .dataframe tbody tr th {\n",
       "        vertical-align: top;\n",
       "    }\n",
       "\n",
       "    .dataframe thead th {\n",
       "        text-align: right;\n",
       "    }\n",
       "</style>\n",
       "<table border=\"1\" class=\"dataframe\">\n",
       "  <thead>\n",
       "    <tr style=\"text-align: right;\">\n",
       "      <th></th>\n",
       "      <th>Mileage</th>\n",
       "      <th>Year</th>\n",
       "      <th>Price</th>\n",
       "    </tr>\n",
       "  </thead>\n",
       "  <tbody>\n",
       "    <tr>\n",
       "      <th>count</th>\n",
       "      <td>1.008700e+04</td>\n",
       "      <td>10087.000000</td>\n",
       "      <td>1.008700e+04</td>\n",
       "    </tr>\n",
       "    <tr>\n",
       "      <th>mean</th>\n",
       "      <td>1.419720e+05</td>\n",
       "      <td>2009.717756</td>\n",
       "      <td>7.053775e+06</td>\n",
       "    </tr>\n",
       "    <tr>\n",
       "      <th>std</th>\n",
       "      <td>1.232832e+05</td>\n",
       "      <td>4.332930</td>\n",
       "      <td>8.089567e+06</td>\n",
       "    </tr>\n",
       "    <tr>\n",
       "      <th>min</th>\n",
       "      <td>1.000000e+00</td>\n",
       "      <td>1990.000000</td>\n",
       "      <td>2.450000e+05</td>\n",
       "    </tr>\n",
       "    <tr>\n",
       "      <th>25%</th>\n",
       "      <td>7.244300e+04</td>\n",
       "      <td>2007.000000</td>\n",
       "      <td>2.586000e+06</td>\n",
       "    </tr>\n",
       "    <tr>\n",
       "      <th>50%</th>\n",
       "      <td>1.149360e+05</td>\n",
       "      <td>2010.000000</td>\n",
       "      <td>5.015000e+06</td>\n",
       "    </tr>\n",
       "    <tr>\n",
       "      <th>75%</th>\n",
       "      <td>1.786570e+05</td>\n",
       "      <td>2013.000000</td>\n",
       "      <td>8.265000e+06</td>\n",
       "    </tr>\n",
       "    <tr>\n",
       "      <th>max</th>\n",
       "      <td>2.293968e+06</td>\n",
       "      <td>2020.000000</td>\n",
       "      <td>6.090000e+07</td>\n",
       "    </tr>\n",
       "  </tbody>\n",
       "</table>\n",
       "</div>"
      ],
      "text/plain": [
       "            Mileage          Year         Price\n",
       "count  1.008700e+04  10087.000000  1.008700e+04\n",
       "mean   1.419720e+05   2009.717756  7.053775e+06\n",
       "std    1.232832e+05      4.332930  8.089567e+06\n",
       "min    1.000000e+00   1990.000000  2.450000e+05\n",
       "25%    7.244300e+04   2007.000000  2.586000e+06\n",
       "50%    1.149360e+05   2010.000000  5.015000e+06\n",
       "75%    1.786570e+05   2013.000000  8.265000e+06\n",
       "max    2.293968e+06   2020.000000  6.090000e+07"
      ]
     },
     "execution_count": 34,
     "metadata": {},
     "output_type": "execute_result"
    }
   ],
   "source": [
    "# A brief description of the numerical values\n",
    "Numerical_data.describe()"
   ]
  },
  {
   "cell_type": "code",
   "execution_count": 35,
   "metadata": {},
   "outputs": [
    {
     "data": {
      "text/plain": [
       "<AxesSubplot:xlabel='Condition', ylabel='count'>"
      ]
     },
     "execution_count": 35,
     "metadata": {},
     "output_type": "execute_result"
    },
    {
     "data": {
      "image/png": "[encoded data removed]",
      "text/plain": [
       "<Figure size 432x288 with 1 Axes>"
      ]
     },
     "metadata": {
      "needs_background": "light"
     },
     "output_type": "display_data"
    }
   ],
   "source": [
    "#A countplot showing the graphical representaion of the frequency of all car conditions\n",
    "sns.countplot(x=\"Condition\", data=df)"
   ]
  },
  {
   "cell_type": "code",
   "execution_count": 36,
   "metadata": {},
   "outputs": [
    {
     "data": {
      "text/html": [
       "<div>\n",
       "<style scoped>\n",
       "    .dataframe tbody tr th:only-of-type {\n",
       "        vertical-align: middle;\n",
       "    }\n",
       "\n",
       "    .dataframe tbody tr th {\n",
       "        vertical-align: top;\n",
       "    }\n",
       "\n",
       "    .dataframe thead th {\n",
       "        text-align: right;\n",
       "    }\n",
       "</style>\n",
       "<table border=\"1\" class=\"dataframe\">\n",
       "  <thead>\n",
       "    <tr style=\"text-align: right;\">\n",
       "      <th></th>\n",
       "      <th>Mileage</th>\n",
       "      <th>Year</th>\n",
       "      <th>Price</th>\n",
       "    </tr>\n",
       "    <tr>\n",
       "      <th>Condition</th>\n",
       "      <th></th>\n",
       "      <th></th>\n",
       "      <th></th>\n",
       "    </tr>\n",
       "  </thead>\n",
       "  <tbody>\n",
       "    <tr>\n",
       "      <th>Foreign Used</th>\n",
       "      <td>138636.355246</td>\n",
       "      <td>2010.925657</td>\n",
       "      <td>8.117078e+06</td>\n",
       "    </tr>\n",
       "    <tr>\n",
       "      <th>New</th>\n",
       "      <td>52691.705882</td>\n",
       "      <td>2015.705882</td>\n",
       "      <td>2.135565e+07</td>\n",
       "    </tr>\n",
       "    <tr>\n",
       "      <th>Nigerian Used</th>\n",
       "      <td>149176.173221</td>\n",
       "      <td>2007.243470</td>\n",
       "      <td>4.829599e+06</td>\n",
       "    </tr>\n",
       "  </tbody>\n",
       "</table>\n",
       "</div>"
      ],
      "text/plain": [
       "                     Mileage         Year         Price\n",
       "Condition                                              \n",
       "Foreign Used   138636.355246  2010.925657  8.117078e+06\n",
       "New             52691.705882  2015.705882  2.135565e+07\n",
       "Nigerian Used  149176.173221  2007.243470  4.829599e+06"
      ]
     },
     "execution_count": 36,
     "metadata": {},
     "output_type": "execute_result"
    }
   ],
   "source": [
    "# mean mileage, year and price of al conditions of car\n",
    "df.groupby(['Condition']).mean()"
   ]
  },
  {
   "cell_type": "code",
   "execution_count": 37,
   "metadata": {},
   "outputs": [
    {
     "data": {
      "text/plain": [
       "[(1990.0, 2021.0)]"
      ]
     },
     "execution_count": 37,
     "metadata": {},
     "output_type": "execute_result"
    },
    {
     "data": {
      "image/png": "[encoded data removed]",
      "text/plain": [
       "<Figure size 432x288 with 1 Axes>"
      ]
     },
     "metadata": {},
     "output_type": "display_data"
    }
   ],
   "source": [
    "# Graphical representation of price distribution as respect to the model\n",
    "sns.set_style(\"whitegrid\")\n",
    "ax = sns.scatterplot(x=\"Year\", y=\"Price\", data=df, hue=\"Condition\")\n",
    "ax.set(xlim=(1990, 2021))"
   ]
  },
  {
   "cell_type": "code",
   "execution_count": 38,
   "metadata": {},
   "outputs": [
    {
     "data": {
      "image/png": "[encoded data removed]",
      "text/plain": [
       "<Figure size 432x288 with 1 Axes>"
      ]
     },
     "metadata": {},
     "output_type": "display_data"
    }
   ],
   "source": [
    "#Box plot showing how the prices in the data are spread out\n",
    "sns.set_style(\"whitegrid\")\n",
    "ax = sns.boxplot(x=\"Price\", data=df)"
   ]
  },
  {
   "cell_type": "code",
   "execution_count": 39,
   "metadata": {},
   "outputs": [
    {
     "data": {
      "image/png": "[encoded data removed]",
      "text/plain": [
       "<Figure size 432x288 with 1 Axes>"
      ]
     },
     "metadata": {},
     "output_type": "display_data"
    }
   ],
   "source": [
    "sns.set_style(\"whitegrid\")\n",
    "ax = sns.boxplot(x=\"Price\", y=\"Condition\", data=df)"
   ]
  },
  {
   "cell_type": "code",
   "execution_count": 46,
   "metadata": {},
   "outputs": [
    {
     "data": {
      "image/png": "[encoded data removed]",
      "text/plain": [
       "<Figure size 432x288 with 1 Axes>"
      ]
     },
     "metadata": {},
     "output_type": "display_data"
    }
   ],
   "source": [
    "sns.set_style(\"whitegrid\")\n",
    "ax = sns.boxplot(x=\"Price\", data=df)"
   ]
  },
  {
   "cell_type": "markdown",
   "metadata": {},
   "source": [
    ">> from the above, we can see there are some outliers in the price column. \n",
    "\n",
    ">> we need to deal with this outliers I will be using the multivariate approach to solve this \n"
   ]
  },
  {
   "cell_type": "code",
   "execution_count": 82,
   "metadata": {},
   "outputs": [],
   "source": [
    "#drop cars prices above 16 million,\n",
    "#df_new = df.drop(df[df['Price'] > 20000000].index)"
   ]
  },
  {
   "cell_type": "code",
   "execution_count": 85,
   "metadata": {},
   "outputs": [
    {
     "data": {
      "image/png": "[encoded data removed]",
      "text/plain": [
       "<Figure size 432x288 with 1 Axes>"
      ]
     },
     "metadata": {},
     "output_type": "display_data"
    }
   ],
   "source": [
    "sns.set_style(\"whitegrid\")\n",
    "ax = sns.boxplot(x=\"Price\", data=df)"
   ]
  },
  {
   "cell_type": "code",
   "execution_count": 87,
   "metadata": {},
   "outputs": [
    {
     "data": {
      "image/png": "[encoded data removed]",
      "text/plain": [
       "<Figure size 360x360 with 1 Axes>"
      ]
     },
     "metadata": {},
     "output_type": "display_data"
    }
   ],
   "source": [
    "sns.set_style(\"whitegrid\")\n",
    "ax = sns.displot(x=\"Price\", data=df)"
   ]
  },
  {
   "cell_type": "code",
   "execution_count": 88,
   "metadata": {},
   "outputs": [],
   "source": [
    "df.to_csv('model_car_data.csv')"
   ]
  },
  {
   "cell_type": "code",
   "execution_count": null,
   "metadata": {},
   "outputs": [],
   "source": [
    ">>"
   ]
  }
 ],
 "metadata": {
  "kernelspec": {
   "display_name": "Python 3 (ipykernel)",
   "language": "python",
   "name": "python3"
  },
  "language_info": {
   "codemirror_mode": {
    "name": "ipython",
    "version": 3
   },
   "file_extension": ".py",
   "mimetype": "text/x-python",
   "name": "python",
   "nbconvert_exporter": "python",
   "pygments_lexer": "ipython3",
   "version": "3.9.7"
  }
 },
 "nbformat": 4,
 "nbformat_minor": 4
}
